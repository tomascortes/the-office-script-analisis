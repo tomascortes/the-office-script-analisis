{
  "nbformat": 4,
  "nbformat_minor": 0,
  "metadata": {
    "colab": {
      "provenance": [],
      "collapsed_sections": [],
      "toc_visible": true,
      "authorship_tag": "ABX9TyNe5Eaxd3bEISS1D2wnGvue",
      "include_colab_link": true
    },
    "kernelspec": {
      "name": "python3",
      "display_name": "Python 3"
    },
    "language_info": {
      "name": "python"
    }
  },
  "cells": [
    {
      "cell_type": "markdown",
      "metadata": {
        "id": "view-in-github",
        "colab_type": "text"
      },
      "source": [
        "<a href=\"https://colab.research.google.com/github/tomascortes/the-office-script-analisis/blob/main/TheOffice.ipynb\" target=\"_parent\"><img src=\"https://colab.research.google.com/assets/colab-badge.svg\" alt=\"Open In Colab\"/></a>"
      ]
    },
    {
      "cell_type": "markdown",
      "source": [
        "# The Office report creator\n",
        "\n",
        "This is a analisis on the script of all the seasons of the famous show 'The Office'"
      ],
      "metadata": {
        "id": "88ix4oER8Duq"
      }
    },
    {
      "cell_type": "markdown",
      "source": [
        "# Import of libraries and loading data"
      ],
      "metadata": {
        "id": "9cQlHzYy8Lgb"
      }
    },
    {
      "cell_type": "code",
      "source": [
        "import pandas as pd\n",
        "import numpy as np\n",
        "from collections import defaultdict\n",
        "import spacy\n",
        "import regex as re\n",
        "import plotly.express as px\n",
        "import plotly.graph_objects as go\n",
        "from plotly.subplots import make_subplots\n",
        "from statistics import mode "
      ],
      "metadata": {
        "id": "7U0WAZHq8zf9"
      },
      "execution_count": null,
      "outputs": []
    },
    {
      "cell_type": "code",
      "source": [
        "url = 'https://drive.google.com/uc?id=1MpIPWZuiUspcfI-oYe1n-f3B821SB_Sv'\n",
        "\n",
        "raw_df = pd.read_csv(url,  encoding='utf8', index_col=0)\n",
        "raw_df.head()\n",
        "print(len(raw_df))"
      ],
      "metadata": {
        "colab": {
          "base_uri": "https://localhost:8080/"
        },
        "id": "paOLGMLE81a5",
        "outputId": "a4e943a4-bd36-497a-a026-c775ada3bad8"
      },
      "execution_count": null,
      "outputs": [
        {
          "output_type": "stream",
          "name": "stdout",
          "text": [
            "59909\n"
          ]
        }
      ]
    },
    {
      "cell_type": "code",
      "source": [
        "from urllib.request import urlopen\n",
        "  \n",
        "import json\n",
        "stop_words_url = 'https://drive.google.com/uc?id=1t8ne3QP9QdFaYPt5NBR25V05ULH20pWw'\n",
        "response = urlopen(stop_words_url)\n",
        "stop_words = json.loads(response.read())\n",
        "print(stop_words)"
      ],
      "metadata": {
        "colab": {
          "base_uri": "https://localhost:8080/"
        },
        "id": "duGUJVWGVady",
        "outputId": "ae6111c6-a2a0-43cd-9f3b-b9f70e233b0c"
      },
      "execution_count": null,
      "outputs": [
        {
          "output_type": "stream",
          "name": "stdout",
          "text": [
            "['a', 'about', 'above', 'after', 'again', 'against', 'ain', 'all', 'am', 'an', 'and', 'any', 'are', 'aren', \"aren't\", 'as', 'at', 'be', 'because', 'been', 'before', 'being', 'below', 'between', 'both', 'but', 'by', 'can', 'couldn', \"couldn't\", 'd', 'did', 'didn', \"didn't\", 'do', 'does', 'doesn', \"doesn't\", 'doing', 'don', \"don't\", 'down', 'during', 'each', 'few', 'for', 'from', 'further', 'had', 'hadn', \"hadn't\", 'has', 'hasn', \"hasn't\", 'have', 'haven', \"haven't\", 'having', 'he', 'her', 'here', 'hers', 'herself', 'him', 'himself', 'his', 'how', 'i', 'if', 'in', 'into', 'is', 'isn', \"isn't\", 'it', \"it's\", 'its', 'itself', 'just', 'll', 'm', 'ma', 'me', 'mightn', \"mightn't\", 'more', 'most', 'mustn', \"mustn't\", 'my', 'myself', 'needn', \"needn't\", 'no', 'nor', 'not', 'now', 'o', 'of', 'off', 'on', 'once', 'only', 'or', 'other', 'our', 'ours', 'ourselves', 'out', 'over', 'own', 're', 's', 'same', 'shan', \"shan't\", 'she', \"she's\", 'should', \"should've\", 'shouldn', \"shouldn't\", 'so', 'some', 'such', 't', 'than', 'that', \"that'll\", 'the', 'their', 'theirs', 'them', 'themselves', 'then', 'there', 'these', 'they', 'this', 'those', 'through', 'to', 'too', 'under', 'until', 'up', 've', 'very', 'was', 'wasn', \"wasn't\", 'we', 'were', 'weren', \"weren't\", 'what', 'when', 'where', 'which', 'while', 'who', 'whom', 'why', 'will', 'with', 'won', \"won't\", 'wouldn', \"wouldn't\", 'y', 'you', \"you'd\", \"you'll\", \"you're\", \"you've\", 'your', 'yours', 'yourself', 'yourselves', 'could', \"he'd\", \"he'll\", \"he's\", \"here's\", \"how's\", \"i'd\", \"i'll\", \"i'm\", \"i've\", \"let's\", 'ought', \"she'd\", \"she'll\", \"that's\", \"there's\", \"they'd\", \"they'll\", \"they're\", \"they've\", \"we'd\", \"we'll\", \"we're\", \"we've\", \"what's\", \"when's\", \"where's\", \"who's\", \"why's\", 'would', 'able', 'abst', 'accordance', 'according', 'accordingly', 'across', 'act', 'actually', 'added', 'adj', 'affected', 'affecting', 'affects', 'afterwards', 'ah', 'almost', 'alone', 'along', 'already', 'also', 'although', 'always', 'among', 'amongst', 'announce', 'another', 'anybody', 'anyhow', 'anymore', 'anyone', 'anything', 'anyway', 'anyways', 'anywhere', 'apparently', 'approximately', 'arent', 'arise', 'around', 'aside', 'ask', 'asking', 'auth', 'available', 'away', 'awfully', 'b', 'back', 'became', 'become', 'becomes', 'becoming', 'beforehand', 'begin', 'beginning', 'beginnings', 'begins', 'behind', 'believe', 'beside', 'besides', 'beyond', 'biol', 'brief', 'briefly', 'c', 'ca', 'came', 'cannot', \"can't\", 'cause', 'causes', 'certain', 'certainly', 'co', 'com', 'come', 'comes', 'contain', 'containing', 'contains', 'couldnt', 'date', 'different', 'done', 'downwards', 'due', 'e', 'ed', 'edu', 'effect', 'eg', 'eight', 'eighty', 'either', 'else', 'elsewhere', 'end', 'ending', 'enough', 'especially', 'et', 'etc', 'even', 'ever', 'every', 'everybody', 'everyone', 'everything', 'everywhere', 'ex', 'except', 'f', 'far', 'ff', 'fifth', 'first', 'five', 'fix', 'followed', 'following', 'follows', 'former', 'formerly', 'forth', 'found', 'four', 'furthermore', 'g', 'gave', 'get', 'gets', 'getting', 'give', 'given', 'gives', 'giving', 'go', 'goes', 'gone', 'got', 'gotten', 'h', 'happens', 'hardly', 'hed', 'hence', 'hereafter', 'hereby', 'herein', 'heres', 'hereupon', 'hes', 'hi', 'hid', 'hither', 'home', 'howbeit', 'however', 'hundred', 'id', 'ie', 'im', 'immediate', 'immediately', 'importance', 'important', 'inc', 'indeed', 'index', 'information', 'instead', 'invention', 'inward', 'itd', \"it'll\", 'j', 'k', 'keep', 'keeps', 'kept', 'kg', 'km', 'know', 'known', 'knows', 'l', 'largely', 'last', 'lately', 'later', 'latter', 'latterly', 'least', 'less', 'lest', 'let', 'lets', 'like', 'liked', 'likely', 'line', 'little', \"'ll\", 'look', 'looking', 'looks', 'ltd', 'made', 'mainly', 'make', 'makes', 'many', 'may', 'maybe', 'mean', 'means', 'meantime', 'meanwhile', 'merely', 'mg', 'might', 'million', 'miss', 'ml', 'moreover', 'mostly', 'mr', 'mrs', 'much', 'mug', 'must', 'n', 'na', 'name', 'namely', 'nay', 'nd', 'near', 'nearly', 'necessarily', 'necessary', 'need', 'needs', 'neither', 'never', 'nevertheless', 'new', 'next', 'nine', 'ninety', 'nobody', 'non', 'none', 'nonetheless', 'noone', 'normally', 'nos', 'noted', 'nothing', 'nowhere', 'obtain', 'obtained', 'obviously', 'often', 'oh', 'ok', 'okay', 'old', 'omitted', 'one', 'ones', 'onto', 'ord', 'others', 'otherwise', 'outside', 'overall', 'owing', 'p', 'page', 'pages', 'part', 'particular', 'particularly', 'past', 'per', 'perhaps', 'placed', 'please', 'plus', 'poorly', 'possible', 'possibly', 'potentially', 'pp', 'predominantly', 'present', 'previously', 'primarily', 'probably', 'promptly', 'proud', 'provides', 'put', 'q', 'que', 'quickly', 'quite', 'qv', 'r', 'ran', 'rather', 'rd', 'readily', 'really', 'recent', 'recently', 'ref', 'refs', 'regarding', 'regardless', 'regards', 'related', 'relatively', 'research', 'respectively', 'resulted', 'resulting', 'results', 'right', 'run', 'said', 'saw', 'say', 'saying', 'says', 'sec', 'section', 'see', 'seeing', 'seem', 'seemed', 'seeming', 'seems', 'seen', 'self', 'selves', 'sent', 'seven', 'several', 'shall', 'shed', 'shes', 'show', 'showed', 'shown', 'showns', 'shows', 'significant', 'significantly', 'similar', 'similarly', 'since', 'six', 'slightly', 'somebody', 'somehow', 'someone', 'somethan', 'something', 'sometime', 'sometimes', 'somewhat', 'somewhere', 'soon', 'sorry', 'specifically', 'specified', 'specify', 'specifying', 'still', 'stop', 'strongly', 'sub', 'substantially', 'successfully', 'sufficiently', 'suggest', 'sup', 'sure', 'take', 'taken', 'taking', 'tell', 'tends', 'th', 'thank', 'thanks', 'thanx', 'thats', \"that've\", 'thence', 'thereafter', 'thereby', 'thered', 'therefore', 'therein', \"there'll\", 'thereof', 'therere', 'theres', 'thereto', 'thereupon', \"there've\", 'theyd', 'theyre', 'think', 'thou', 'though', 'thoughh', 'thousand', 'throug', 'throughout', 'thru', 'thus', 'til', 'tip', 'together', 'took', 'toward', 'towards', 'tried', 'tries', 'truly', 'try', 'trying', 'ts', 'twice', 'two', 'u', 'un', 'unfortunately', 'unless', 'unlike', 'unlikely', 'unto', 'upon', 'ups', 'us', 'use', 'used', 'useful', 'usefully', 'usefulness', 'uses', 'using', 'usually', 'v', 'value', 'various', \"'ve\", 'via', 'viz', 'vol', 'vols', 'vs', 'w', 'want', 'wants', 'wasnt', 'way', 'wed', 'welcome', 'went', 'werent', 'whatever', \"what'll\", 'whats', 'whence', 'whenever', 'whereafter', 'whereas', 'whereby', 'wherein', 'wheres', 'whereupon', 'wherever', 'whether', 'whim', 'whither', 'whod', 'whoever', 'whole', \"who'll\", 'whomever', 'whos', 'whose', 'widely', 'willing', 'wish', 'within', 'without', 'wont', 'words', 'world', 'wouldnt', 'www', 'x', 'yes', 'yet', 'youd', 'youre', 'z', 'zero', \"a's\", \"ain't\", 'allow', 'allows', 'apart', 'appear', 'appreciate', 'appropriate', 'associated', 'best', 'better', \"c'mon\", \"c's\", 'cant', 'changes', 'clearly', 'concerning', 'consequently', 'consider', 'considering', 'corresponding', 'course', 'currently', 'definitely', 'described', 'despite', 'entirely', 'exactly', 'example', 'going', 'greetings', 'hello', 'help', 'hopefully', 'ignored', 'inasmuch', 'indicate', 'indicated', 'indicates', 'inner', 'insofar', \"it'd\", 'keep', 'keeps', 'novel', 'presumably', 'reasonably', 'second', 'secondly', 'sensible', 'serious', 'seriously', 'sure', \"t's\", 'third', 'thorough', 'thoroughly', 'three', 'well', 'wonder']\n"
          ]
        }
      ]
    },
    {
      "cell_type": "markdown",
      "source": [
        "# Fixing errors\n",
        "\n"
      ],
      "metadata": {
        "id": "3N4aHRiI0T14"
      }
    },
    {
      "cell_type": "markdown",
      "source": [
        "## Missclassified line_text\n",
        "There were missclasified rows with speaker and line_text switched."
      ],
      "metadata": {
        "id": "_EMhSdu12Rl-"
      }
    },
    {
      "cell_type": "code",
      "source": [
        "for row in raw_df[(\n",
        "          (raw_df['speaker'].str.len() >= 20) \n",
        "          & (raw_df['line_text'].str.len() < 30) \n",
        "          & (raw_df['line_text'].str.contains(':'))\n",
        "      )].iloc:\n",
        "    print(row)\n",
        "    print(row.speaker)\n",
        "    print('--'*10)"
      ],
      "metadata": {
        "colab": {
          "base_uri": "https://localhost:8080/"
        },
        "id": "A5u-fly5y575",
        "outputId": "a605f6c5-ec46-4a0f-a471-f4137036cda3"
      },
      "execution_count": null,
      "outputs": [
        {
          "output_type": "stream",
          "name": "stdout",
          "text": [
            "season                                                       9\n",
            "episode                                                      4\n",
            "scene                                                        1\n",
            "line_text                                               Kevin:\n",
            "speaker      Group: Dunder Mifflin!\\nAndy: Andy Bernard pre...\n",
            "deleted                                                  False\n",
            "Name: 53564, dtype: object\n",
            "Group: Dunder Mifflin!\n",
            "Andy: Andy Bernard presents: Summer Softball Epic Fails! [Kevin swings bat on screen, fart noise follows] Fail. [repeats] Fail\n",
            "--------------------\n",
            "season                           9\n",
            "episode                          4\n",
            "scene                            1\n",
            "line_text                   Oscar:\n",
            "speaker      [repeats]\\nAndy: Fail\n",
            "deleted                      False\n",
            "Name: 53565, dtype: object\n",
            "[repeats]\n",
            "Andy: Fail\n",
            "--------------------\n",
            "season                                                       9\n",
            "episode                                                      4\n",
            "scene                                                        1\n",
            "line_text                                                Andy:\n",
            "speaker      [Clark and Pete are shown on screen]\\nVideo An...\n",
            "deleted                                                  False\n",
            "Name: 53573, dtype: object\n",
            "[Clark and Pete are shown on screen]\n",
            "Video Andy: Hey, I'm Pete, puberty is such a drag, man. And I'm Clark! I like to eat toilet paper. [Clark and Pete wave at camera] We fail! [Video shows memorial of Jerry\n",
            "--------------------\n"
          ]
        }
      ]
    },
    {
      "cell_type": "markdown",
      "source": [
        "This where clearly missclasified. The text in speakers includes the speaker and the line_text."
      ],
      "metadata": {
        "id": "sJRF7whoT-Xa"
      }
    },
    {
      "cell_type": "code",
      "source": [
        "def remove_missclassified(raw_df):\n",
        "# Removing the missclasified rows\n",
        "  df = raw_df[~(\n",
        "            (raw_df['speaker'].str.len() >= 20) \n",
        "            & (raw_df['line_text'].str.len() < 30) \n",
        "            & (raw_df['line_text'].str.contains(':'))\n",
        "        )]\n",
        "  return df\n",
        "\n",
        "test_df = remove_missclassified(raw_df)\n",
        "# Check if they were removed\n",
        "print( 'Check Removed: {}'.format(\n",
        "    0 == len(                                     \n",
        "      test_df[(\n",
        "          (test_df['speaker'].str.len() >= 20) \n",
        "          & (test_df['line_text'].str.len() < 30) \n",
        "          & (test_df['line_text'].str.contains(':'))\n",
        "      )])\n",
        "    ))"
      ],
      "metadata": {
        "id": "1eMQN7IC0T-t",
        "colab": {
          "base_uri": "https://localhost:8080/"
        },
        "outputId": "d869c52f-26fb-4637-8c0d-eefa6606a90d"
      },
      "execution_count": null,
      "outputs": [
        {
          "output_type": "stream",
          "name": "stdout",
          "text": [
            "Check Removed: True\n"
          ]
        }
      ]
    },
    {
      "cell_type": "markdown",
      "source": [
        "Adding the fixed dialogs. Because is just 3 cases we will fix it manually (I watched the episode to check the original dialog)"
      ],
      "metadata": {
        "id": "aD3P8FyYvbb3"
      }
    },
    {
      "cell_type": "code",
      "source": [
        "def make_row(speaker:str, line_text:str) -> dict:\n",
        "  ep_base = {\n",
        "      'season': 9,\n",
        "      'episode': 4,\n",
        "      'scene': 1,\n",
        "      'line_text': line_text,\n",
        "      'speaker': speaker,\n",
        "      'deleted': False,\n",
        "  }\n",
        "  return ep_base\n",
        "\n",
        "def add_fixed_rows(raw_df):\n",
        "  new_rows = [    \n",
        "      make_row('Group', 'Dunder Mifflin!'),\n",
        "      make_row('Andy Bernard',  'Summer Softball Epic Fails! [Kevin swings bat on screen, fart noise follows] Fail. [repeats] Fail'),\n",
        "      make_row('Andy Bernard',  'Fail'),\n",
        "      make_row('Andy Bernard', 'Hey, I'm Pete, puberty is such a drag, man. And I'm Clark! I like to eat toilet paper. [Clark and Pete wave at camera] We fail! [Video shows memorial of Jerry')\n",
        "  ]\n",
        "  df = raw_df.append(new_rows, ignore_index=True)\n",
        "  return df\n",
        "\n",
        "  \n",
        "test_df = add_fixed_rows(raw_df)\n",
        "print(f'\\nNew len: {len(test_df)} | Old len: {len(raw_df)}')\n",
        "# Check if the line dunder miffling was correctly added\n",
        "test_df[(\n",
        "(test_df['line_text'].str.contains('Dunder Mifflin!'))\n",
        "      )]"
      ],
      "metadata": {
        "colab": {
          "base_uri": "https://localhost:8080/",
          "height": 241
        },
        "id": "pIFgMkDTvXqV",
        "outputId": "a342c4c7-d141-493b-a2dd-723c63e917b5"
      },
      "execution_count": null,
      "outputs": [
        {
          "output_type": "stream",
          "name": "stdout",
          "text": [
            "\n",
            "New len: 59913 | Old len: 59909\n"
          ]
        },
        {
          "output_type": "execute_result",
          "data": {
            "text/plain": [
              "       season  episode  scene  \\\n",
              "9399        2       22     50   \n",
              "14950       3       18     54   \n",
              "26724       5       13      2   \n",
              "34101       6       10     49   \n",
              "59909       9        4      1   \n",
              "\n",
              "                                               line_text  speaker  deleted  \n",
              "9399   Excuse me. Big moment. The evening's chip lead...      Bob    False  \n",
              "14950  I graduated from anger management the same way...     Andy    False  \n",
              "26724  [blowing air horn] Attention everyone! Employe...   Dwight    False  \n",
              "34101  [running out of the building with Oscar, Andy,...  Michael    False  \n",
              "59909                                    Dunder Mifflin!    Group    False  "
            ],
            "text/html": [
              "\n",
              "  <div id=\"df-2b42232b-1331-4a7f-b242-bc1d81c54c5c\">\n",
              "    <div class=\"colab-df-container\">\n",
              "      <div>\n",
              "<style scoped>\n",
              "    .dataframe tbody tr th:only-of-type {\n",
              "        vertical-align: middle;\n",
              "    }\n",
              "\n",
              "    .dataframe tbody tr th {\n",
              "        vertical-align: top;\n",
              "    }\n",
              "\n",
              "    .dataframe thead th {\n",
              "        text-align: right;\n",
              "    }\n",
              "</style>\n",
              "<table border=\"1\" class=\"dataframe\">\n",
              "  <thead>\n",
              "    <tr style=\"text-align: right;\">\n",
              "      <th></th>\n",
              "      <th>season</th>\n",
              "      <th>episode</th>\n",
              "      <th>scene</th>\n",
              "      <th>line_text</th>\n",
              "      <th>speaker</th>\n",
              "      <th>deleted</th>\n",
              "    </tr>\n",
              "  </thead>\n",
              "  <tbody>\n",
              "    <tr>\n",
              "      <th>9399</th>\n",
              "      <td>2</td>\n",
              "      <td>22</td>\n",
              "      <td>50</td>\n",
              "      <td>Excuse me. Big moment. The evening's chip lead...</td>\n",
              "      <td>Bob</td>\n",
              "      <td>False</td>\n",
              "    </tr>\n",
              "    <tr>\n",
              "      <th>14950</th>\n",
              "      <td>3</td>\n",
              "      <td>18</td>\n",
              "      <td>54</td>\n",
              "      <td>I graduated from anger management the same way...</td>\n",
              "      <td>Andy</td>\n",
              "      <td>False</td>\n",
              "    </tr>\n",
              "    <tr>\n",
              "      <th>26724</th>\n",
              "      <td>5</td>\n",
              "      <td>13</td>\n",
              "      <td>2</td>\n",
              "      <td>[blowing air horn] Attention everyone! Employe...</td>\n",
              "      <td>Dwight</td>\n",
              "      <td>False</td>\n",
              "    </tr>\n",
              "    <tr>\n",
              "      <th>34101</th>\n",
              "      <td>6</td>\n",
              "      <td>10</td>\n",
              "      <td>49</td>\n",
              "      <td>[running out of the building with Oscar, Andy,...</td>\n",
              "      <td>Michael</td>\n",
              "      <td>False</td>\n",
              "    </tr>\n",
              "    <tr>\n",
              "      <th>59909</th>\n",
              "      <td>9</td>\n",
              "      <td>4</td>\n",
              "      <td>1</td>\n",
              "      <td>Dunder Mifflin!</td>\n",
              "      <td>Group</td>\n",
              "      <td>False</td>\n",
              "    </tr>\n",
              "  </tbody>\n",
              "</table>\n",
              "</div>\n",
              "      <button class=\"colab-df-convert\" onclick=\"convertToInteractive('df-2b42232b-1331-4a7f-b242-bc1d81c54c5c')\"\n",
              "              title=\"Convert this dataframe to an interactive table.\"\n",
              "              style=\"display:none;\">\n",
              "        \n",
              "  <svg xmlns=\"http://www.w3.org/2000/svg\" height=\"24px\"viewBox=\"0 0 24 24\"\n",
              "       width=\"24px\">\n",
              "    <path d=\"M0 0h24v24H0V0z\" fill=\"none\"/>\n",
              "    <path d=\"M18.56 5.44l.94 2.06.94-2.06 2.06-.94-2.06-.94-.94-2.06-.94 2.06-2.06.94zm-11 1L8.5 8.5l.94-2.06 2.06-.94-2.06-.94L8.5 2.5l-.94 2.06-2.06.94zm10 10l.94 2.06.94-2.06 2.06-.94-2.06-.94-.94-2.06-.94 2.06-2.06.94z\"/><path d=\"M17.41 7.96l-1.37-1.37c-.4-.4-.92-.59-1.43-.59-.52 0-1.04.2-1.43.59L10.3 9.45l-7.72 7.72c-.78.78-.78 2.05 0 2.83L4 21.41c.39.39.9.59 1.41.59.51 0 1.02-.2 1.41-.59l7.78-7.78 2.81-2.81c.8-.78.8-2.07 0-2.86zM5.41 20L4 18.59l7.72-7.72 1.47 1.35L5.41 20z\"/>\n",
              "  </svg>\n",
              "      </button>\n",
              "      \n",
              "  <style>\n",
              "    .colab-df-container {\n",
              "      display:flex;\n",
              "      flex-wrap:wrap;\n",
              "      gap: 12px;\n",
              "    }\n",
              "\n",
              "    .colab-df-convert {\n",
              "      background-color: #E8F0FE;\n",
              "      border: none;\n",
              "      border-radius: 50%;\n",
              "      cursor: pointer;\n",
              "      display: none;\n",
              "      fill: #1967D2;\n",
              "      height: 32px;\n",
              "      padding: 0 0 0 0;\n",
              "      width: 32px;\n",
              "    }\n",
              "\n",
              "    .colab-df-convert:hover {\n",
              "      background-color: #E2EBFA;\n",
              "      box-shadow: 0px 1px 2px rgba(60, 64, 67, 0.3), 0px 1px 3px 1px rgba(60, 64, 67, 0.15);\n",
              "      fill: #174EA6;\n",
              "    }\n",
              "\n",
              "    [theme=dark] .colab-df-convert {\n",
              "      background-color: #3B4455;\n",
              "      fill: #D2E3FC;\n",
              "    }\n",
              "\n",
              "    [theme=dark] .colab-df-convert:hover {\n",
              "      background-color: #434B5C;\n",
              "      box-shadow: 0px 1px 3px 1px rgba(0, 0, 0, 0.15);\n",
              "      filter: drop-shadow(0px 1px 2px rgba(0, 0, 0, 0.3));\n",
              "      fill: #FFFFFF;\n",
              "    }\n",
              "  </style>\n",
              "\n",
              "      <script>\n",
              "        const buttonEl =\n",
              "          document.querySelector('#df-2b42232b-1331-4a7f-b242-bc1d81c54c5c button.colab-df-convert');\n",
              "        buttonEl.style.display =\n",
              "          google.colab.kernel.accessAllowed ? 'block' : 'none';\n",
              "\n",
              "        async function convertToInteractive(key) {\n",
              "          const element = document.querySelector('#df-2b42232b-1331-4a7f-b242-bc1d81c54c5c');\n",
              "          const dataTable =\n",
              "            await google.colab.kernel.invokeFunction('convertToInteractive',\n",
              "                                                     [key], {});\n",
              "          if (!dataTable) return;\n",
              "\n",
              "          const docLinkHtml = 'Like what you see? Visit the ' +\n",
              "            '<a target=\"_blank\" href=https://colab.research.google.com/notebooks/data_table.ipynb>data table notebook</a>'\n",
              "            + ' to learn more about interactive tables.';\n",
              "          element.innerHTML = '';\n",
              "          dataTable['output_type'] = 'display_data';\n",
              "          await google.colab.output.renderOutput(dataTable, element);\n",
              "          const docLink = document.createElement('div');\n",
              "          docLink.innerHTML = docLinkHtml;\n",
              "          element.appendChild(docLink);\n",
              "        }\n",
              "      </script>\n",
              "    </div>\n",
              "  </div>\n",
              "  "
            ]
          },
          "metadata": {},
          "execution_count": 7
        }
      ]
    },
    {
      "cell_type": "markdown",
      "source": [
        "# General cleaning\n",
        "Using just the undeleted scenes (we are interested in the dialags that where in the serie)"
      ],
      "metadata": {
        "id": "7Id154ursBoV"
      }
    },
    {
      "cell_type": "code",
      "source": [
        "def delete_deleted_text(raw_df):\n",
        "  return raw_df[~raw_df['deleted']][['season',\t'episode',\t'scene',\t'line_text',\t'speaker']]"
      ],
      "metadata": {
        "id": "rLIEJVuYsLyi"
      },
      "execution_count": null,
      "outputs": []
    },
    {
      "cell_type": "markdown",
      "source": [
        "Deleting the acction in the speakers. Ex:\n",
        "- Jan [on phone]\n",
        "- JIM9334 [screen name]\n",
        "- Hank [the security guard]\n",
        "- Female church member [to Michael]\n",
        "\n",
        "We know that Hank the security guy, is the same as Hank. So we can delete the parentesis. "
      ],
      "metadata": {
        "id": "YKf1uU9rxQjF"
      }
    },
    {
      "cell_type": "code",
      "source": [
        "def delete_actions_in_speakers(row):\n",
        "  if '[' in row['speaker']:\n",
        "    row.speaker = re.sub('[\\(\\[].*?[\\)\\]]', '', row.speaker)\n",
        "    row.speaker = row.speaker.strip()\n",
        "  return row"
      ],
      "metadata": {
        "id": "CaaXRcUNxQMU"
      },
      "execution_count": null,
      "outputs": []
    },
    {
      "cell_type": "markdown",
      "source": [
        "For the later text analisis is important to clean the punctuation"
      ],
      "metadata": {
        "id": "QySE5yc9qEmm"
      }
    },
    {
      "cell_type": "code",
      "source": [
        "def clean_punctuation(line):\n",
        "  puntuaction = ['.,;']\n",
        "  for simbol in puntuaction:\n",
        "    line = line.replace(simbol, ' ')\n",
        "  \n",
        "  apostrophe = ['\\'\"´`']\n",
        "  for simbol in apostrophe:\n",
        "    line = line.replace(simbol, '')\n",
        "  return line"
      ],
      "metadata": {
        "id": "xJcdVd3hqEDq"
      },
      "execution_count": null,
      "outputs": []
    },
    {
      "cell_type": "markdown",
      "source": [
        "## Apply all filters"
      ],
      "metadata": {
        "id": "WLxZrxia2YpD"
      }
    },
    {
      "cell_type": "code",
      "source": [
        "def data_cleaning(raw_df):\n",
        "  # removing and adding, columns and rows\n",
        "  raw_df = remove_missclassified(raw_df)\n",
        "  raw_df = add_fixed_rows(raw_df).reset_index()\n",
        "  raw_df = delete_deleted_text(raw_df)\n",
        "  # Lower case the names\n",
        "  raw_df.speaker = raw_df.speaker.apply(\n",
        "      lambda row: row.lower())\n",
        "  \n",
        "  # filters on each line\n",
        "  raw_df = raw_df.apply(delete_actions_in_speakers, axis=1)\n",
        "\n",
        "  return raw_df\n",
        "data_cleaning(raw_df)"
      ],
      "metadata": {
        "id": "h8bWuEYI2FzJ",
        "colab": {
          "base_uri": "https://localhost:8080/",
          "height": 424
        },
        "outputId": "bc0316ee-14f9-4122-eba8-178fe45fdba8"
      },
      "execution_count": null,
      "outputs": [
        {
          "output_type": "execute_result",
          "data": {
            "text/plain": [
              "       season  episode  scene  \\\n",
              "0           1        1      1   \n",
              "1           1        1      1   \n",
              "2           1        1      1   \n",
              "3           1        1      1   \n",
              "4           1        1      1   \n",
              "...       ...      ...    ...   \n",
              "59905       9       23    116   \n",
              "59906       9        4      1   \n",
              "59907       9        4      1   \n",
              "59908       9        4      1   \n",
              "59909       9        4      1   \n",
              "\n",
              "                                               line_text       speaker  \n",
              "0      All right Jim. Your quarterlies look very good...       michael  \n",
              "1             Oh, I told you. I couldn't close it. So...           jim  \n",
              "2      So you've come to the master for guidance? Is ...       michael  \n",
              "3             Actually, you called me in here, but yeah.           jim  \n",
              "4        All right. Well, let me show you how it's done.       michael  \n",
              "...                                                  ...           ...  \n",
              "59905  I thought it was weird when you picked us to m...           pam  \n",
              "59906                                    Dunder Mifflin!         group  \n",
              "59907  Summer Softball Epic Fails! [Kevin swings bat ...  andy bernard  \n",
              "59908                                               Fail  andy bernard  \n",
              "59909  Hey, I'm Pete, puberty is such a drag, man. An...  andy bernard  \n",
              "\n",
              "[57974 rows x 5 columns]"
            ],
            "text/html": [
              "\n",
              "  <div id=\"df-21a8c4cf-a613-41b9-a9c7-19880add3a42\">\n",
              "    <div class=\"colab-df-container\">\n",
              "      <div>\n",
              "<style scoped>\n",
              "    .dataframe tbody tr th:only-of-type {\n",
              "        vertical-align: middle;\n",
              "    }\n",
              "\n",
              "    .dataframe tbody tr th {\n",
              "        vertical-align: top;\n",
              "    }\n",
              "\n",
              "    .dataframe thead th {\n",
              "        text-align: right;\n",
              "    }\n",
              "</style>\n",
              "<table border=\"1\" class=\"dataframe\">\n",
              "  <thead>\n",
              "    <tr style=\"text-align: right;\">\n",
              "      <th></th>\n",
              "      <th>season</th>\n",
              "      <th>episode</th>\n",
              "      <th>scene</th>\n",
              "      <th>line_text</th>\n",
              "      <th>speaker</th>\n",
              "    </tr>\n",
              "  </thead>\n",
              "  <tbody>\n",
              "    <tr>\n",
              "      <th>0</th>\n",
              "      <td>1</td>\n",
              "      <td>1</td>\n",
              "      <td>1</td>\n",
              "      <td>All right Jim. Your quarterlies look very good...</td>\n",
              "      <td>michael</td>\n",
              "    </tr>\n",
              "    <tr>\n",
              "      <th>1</th>\n",
              "      <td>1</td>\n",
              "      <td>1</td>\n",
              "      <td>1</td>\n",
              "      <td>Oh, I told you. I couldn't close it. So...</td>\n",
              "      <td>jim</td>\n",
              "    </tr>\n",
              "    <tr>\n",
              "      <th>2</th>\n",
              "      <td>1</td>\n",
              "      <td>1</td>\n",
              "      <td>1</td>\n",
              "      <td>So you've come to the master for guidance? Is ...</td>\n",
              "      <td>michael</td>\n",
              "    </tr>\n",
              "    <tr>\n",
              "      <th>3</th>\n",
              "      <td>1</td>\n",
              "      <td>1</td>\n",
              "      <td>1</td>\n",
              "      <td>Actually, you called me in here, but yeah.</td>\n",
              "      <td>jim</td>\n",
              "    </tr>\n",
              "    <tr>\n",
              "      <th>4</th>\n",
              "      <td>1</td>\n",
              "      <td>1</td>\n",
              "      <td>1</td>\n",
              "      <td>All right. Well, let me show you how it's done.</td>\n",
              "      <td>michael</td>\n",
              "    </tr>\n",
              "    <tr>\n",
              "      <th>...</th>\n",
              "      <td>...</td>\n",
              "      <td>...</td>\n",
              "      <td>...</td>\n",
              "      <td>...</td>\n",
              "      <td>...</td>\n",
              "    </tr>\n",
              "    <tr>\n",
              "      <th>59905</th>\n",
              "      <td>9</td>\n",
              "      <td>23</td>\n",
              "      <td>116</td>\n",
              "      <td>I thought it was weird when you picked us to m...</td>\n",
              "      <td>pam</td>\n",
              "    </tr>\n",
              "    <tr>\n",
              "      <th>59906</th>\n",
              "      <td>9</td>\n",
              "      <td>4</td>\n",
              "      <td>1</td>\n",
              "      <td>Dunder Mifflin!</td>\n",
              "      <td>group</td>\n",
              "    </tr>\n",
              "    <tr>\n",
              "      <th>59907</th>\n",
              "      <td>9</td>\n",
              "      <td>4</td>\n",
              "      <td>1</td>\n",
              "      <td>Summer Softball Epic Fails! [Kevin swings bat ...</td>\n",
              "      <td>andy bernard</td>\n",
              "    </tr>\n",
              "    <tr>\n",
              "      <th>59908</th>\n",
              "      <td>9</td>\n",
              "      <td>4</td>\n",
              "      <td>1</td>\n",
              "      <td>Fail</td>\n",
              "      <td>andy bernard</td>\n",
              "    </tr>\n",
              "    <tr>\n",
              "      <th>59909</th>\n",
              "      <td>9</td>\n",
              "      <td>4</td>\n",
              "      <td>1</td>\n",
              "      <td>Hey, I'm Pete, puberty is such a drag, man. An...</td>\n",
              "      <td>andy bernard</td>\n",
              "    </tr>\n",
              "  </tbody>\n",
              "</table>\n",
              "<p>57974 rows × 5 columns</p>\n",
              "</div>\n",
              "      <button class=\"colab-df-convert\" onclick=\"convertToInteractive('df-21a8c4cf-a613-41b9-a9c7-19880add3a42')\"\n",
              "              title=\"Convert this dataframe to an interactive table.\"\n",
              "              style=\"display:none;\">\n",
              "        \n",
              "  <svg xmlns=\"http://www.w3.org/2000/svg\" height=\"24px\"viewBox=\"0 0 24 24\"\n",
              "       width=\"24px\">\n",
              "    <path d=\"M0 0h24v24H0V0z\" fill=\"none\"/>\n",
              "    <path d=\"M18.56 5.44l.94 2.06.94-2.06 2.06-.94-2.06-.94-.94-2.06-.94 2.06-2.06.94zm-11 1L8.5 8.5l.94-2.06 2.06-.94-2.06-.94L8.5 2.5l-.94 2.06-2.06.94zm10 10l.94 2.06.94-2.06 2.06-.94-2.06-.94-.94-2.06-.94 2.06-2.06.94z\"/><path d=\"M17.41 7.96l-1.37-1.37c-.4-.4-.92-.59-1.43-.59-.52 0-1.04.2-1.43.59L10.3 9.45l-7.72 7.72c-.78.78-.78 2.05 0 2.83L4 21.41c.39.39.9.59 1.41.59.51 0 1.02-.2 1.41-.59l7.78-7.78 2.81-2.81c.8-.78.8-2.07 0-2.86zM5.41 20L4 18.59l7.72-7.72 1.47 1.35L5.41 20z\"/>\n",
              "  </svg>\n",
              "      </button>\n",
              "      \n",
              "  <style>\n",
              "    .colab-df-container {\n",
              "      display:flex;\n",
              "      flex-wrap:wrap;\n",
              "      gap: 12px;\n",
              "    }\n",
              "\n",
              "    .colab-df-convert {\n",
              "      background-color: #E8F0FE;\n",
              "      border: none;\n",
              "      border-radius: 50%;\n",
              "      cursor: pointer;\n",
              "      display: none;\n",
              "      fill: #1967D2;\n",
              "      height: 32px;\n",
              "      padding: 0 0 0 0;\n",
              "      width: 32px;\n",
              "    }\n",
              "\n",
              "    .colab-df-convert:hover {\n",
              "      background-color: #E2EBFA;\n",
              "      box-shadow: 0px 1px 2px rgba(60, 64, 67, 0.3), 0px 1px 3px 1px rgba(60, 64, 67, 0.15);\n",
              "      fill: #174EA6;\n",
              "    }\n",
              "\n",
              "    [theme=dark] .colab-df-convert {\n",
              "      background-color: #3B4455;\n",
              "      fill: #D2E3FC;\n",
              "    }\n",
              "\n",
              "    [theme=dark] .colab-df-convert:hover {\n",
              "      background-color: #434B5C;\n",
              "      box-shadow: 0px 1px 3px 1px rgba(0, 0, 0, 0.15);\n",
              "      filter: drop-shadow(0px 1px 2px rgba(0, 0, 0, 0.3));\n",
              "      fill: #FFFFFF;\n",
              "    }\n",
              "  </style>\n",
              "\n",
              "      <script>\n",
              "        const buttonEl =\n",
              "          document.querySelector('#df-21a8c4cf-a613-41b9-a9c7-19880add3a42 button.colab-df-convert');\n",
              "        buttonEl.style.display =\n",
              "          google.colab.kernel.accessAllowed ? 'block' : 'none';\n",
              "\n",
              "        async function convertToInteractive(key) {\n",
              "          const element = document.querySelector('#df-21a8c4cf-a613-41b9-a9c7-19880add3a42');\n",
              "          const dataTable =\n",
              "            await google.colab.kernel.invokeFunction('convertToInteractive',\n",
              "                                                     [key], {});\n",
              "          if (!dataTable) return;\n",
              "\n",
              "          const docLinkHtml = 'Like what you see? Visit the ' +\n",
              "            '<a target=\"_blank\" href=https://colab.research.google.com/notebooks/data_table.ipynb>data table notebook</a>'\n",
              "            + ' to learn more about interactive tables.';\n",
              "          element.innerHTML = '';\n",
              "          dataTable['output_type'] = 'display_data';\n",
              "          await google.colab.output.renderOutput(dataTable, element);\n",
              "          const docLink = document.createElement('div');\n",
              "          docLink.innerHTML = docLinkHtml;\n",
              "          element.appendChild(docLink);\n",
              "        }\n",
              "      </script>\n",
              "    </div>\n",
              "  </div>\n",
              "  "
            ]
          },
          "metadata": {},
          "execution_count": 11
        }
      ]
    },
    {
      "cell_type": "markdown",
      "source": [
        "# Util general functions"
      ],
      "metadata": {
        "id": "lfbn5XZi1xa-"
      }
    },
    {
      "cell_type": "code",
      "source": [
        "def get_dict_episodes_per_season(df):\n",
        "  df_episodes = df[['season', 'episode']]\n",
        "  df_episodes = df_episodes.drop_duplicates(['season','episode'], keep='first')\n",
        "  ep_per_season = df_episodes.groupby(['season']).episode.count()\n",
        "  return ep_per_season.to_dict()\n",
        "\n",
        "def get_dict_scenes_per_episode(df):\n",
        "  df_episodes = df[['season', 'episode', 'scene']]\n",
        "  scenes_per_ep = df_episodes.groupby(['season', 'episode']).episode.count()\n",
        "  return scenes_per_ep.to_dict()"
      ],
      "metadata": {
        "id": "Ys3VTkZX1xo_"
      },
      "execution_count": null,
      "outputs": []
    },
    {
      "cell_type": "markdown",
      "source": [
        "# Questions\n"
      ],
      "metadata": {
        "id": "6SI7a2dX8KxI"
      }
    },
    {
      "cell_type": "markdown",
      "source": [
        "## 1 How many characters are there? What are their names?\n"
      ],
      "metadata": {
        "id": "Kbj8uLok_l30"
      }
    },
    {
      "cell_type": "markdown",
      "source": [
        "First we want to separate speakers when two or more speakers say the same line\n",
        "\n",
        "- Andy and Dwight"
      ],
      "metadata": {
        "id": "gp3zqzCBC8M-"
      }
    },
    {
      "cell_type": "code",
      "source": [
        "def print_bad_formated_speakers(row):\n",
        "  if '[' in row['speaker']:\n",
        "    print(row.speaker)\n",
        "  elif '&' in row['speaker']:\n",
        "    print(row.speaker)\n",
        "  elif ',' in row['speaker']:\n",
        "    print(row.speaker)\n",
        "  elif 'and ' in row['speaker']:\n",
        "    print(row.speaker)"
      ],
      "metadata": {
        "id": "MnSiAc4Z8W47"
      },
      "execution_count": null,
      "outputs": []
    },
    {
      "cell_type": "code",
      "source": [
        "df = data_cleaning(raw_df)\n",
        "df.apply(print_bad_formated_speakers, axis=1)\n",
        "print()"
      ],
      "metadata": {
        "colab": {
          "base_uri": "https://localhost:8080/"
        },
        "id": "UzLvn6a45QIb",
        "outputId": "a89d101d-bd13-48ca-df23-7d74586e40cd"
      },
      "execution_count": null,
      "outputs": [
        {
          "output_type": "stream",
          "name": "stdout",
          "text": [
            "michael and dwight\n",
            "pam and jim\n",
            "dwight and michael\n",
            "dwight and michael\n",
            "dwight and michael\n",
            "michael and christian\n",
            "michael and christian\n",
            "michael and jim\n",
            "michael and jim\n",
            "kevin & oscar\n",
            "phyllis, meredith, michael, kevin\n",
            "darryl and katy\n",
            "jim and pam\n",
            "pam and others\n",
            "michael and dwight\n",
            "jim and dwight\n",
            "michael and dwight\n",
            "michael and dwight\n",
            "dwight and michael\n",
            "jim, josh, and dwight\n",
            "ryan and others\n",
            "andy and jim\n",
            "andy and jim\n",
            "andy and jim\n",
            "andy and jim\n",
            "michael and dwight\n",
            "michael and dwight\n",
            "michael & dwight\n",
            "michael and dwight\n",
            "andy & michael\n",
            "andy & michael\n",
            "andy and michael\n",
            "pam and jim\n",
            "oscar and stanley\n",
            "andy, creed, kevin, kelly, darryl\n",
            "andy, creed, kevin, kelly\n",
            "andy, creed, kevin, kelly\n",
            "andy, creed, kevin, kelly\n",
            "andy, creed, kevin, kelly\n",
            "andy, creed, kevin, kelly\n",
            "dwight and michael\n",
            "michael and dwight\n",
            "michael and dwight\n",
            "michael and darryl\n",
            "angela and dwight\n",
            "michael & holly\n",
            "michael and holly\n",
            "michael, holly, and darryl\n",
            "holly & darryl\n",
            "holly & michael\n",
            "michael & holly\n",
            "michael & holly\n",
            "michael & holly\n",
            "jim and pam\n",
            "kevin & andy\n",
            "stanley & phyllis\n",
            "dwight and michael\n",
            "phyllis and creed\n",
            "jim, pam, michael and dwight\n",
            "jim, pam, michael and dwight\n",
            "angela and kelly\n",
            "dwight and erin\n",
            "dwight and andy\n",
            "michael, pam & ryan\n",
            "dwight & andy\n",
            "dwight & andy\n",
            "andy & michael\n",
            "michael & dwight\n",
            "michael & dwight\n",
            "dwight, jim & pam\n",
            "jim & pam\n",
            "michael and dwight\n",
            "tom and pete\n",
            "andy and dwight\n",
            "dwight and andy\n",
            "jim & pam\n",
            "michael and erin\n",
            "kelly and erin\n",
            "andy & erin\n",
            "andy & erin\n",
            "michael and dwight\n",
            "dwight, jim and michael\n",
            "andy and dwight\n",
            "andy and dwight\n",
            "andy and dwight\n",
            "andy and dwight\n",
            "meredith, creed, oscar and matt\n",
            "michael and donna\n",
            "dwight and angela\n",
            "jim and pam\n",
            "darryl and andy\n",
            "michael and andy\n",
            "ryan and michael\n",
            "dwight & nate\n",
            "phyllis, stanley, dwight\n",
            "ryan and kelly\n",
            "dwight and erin\n",
            "jim and pam\n",
            "andy and erin\n",
            "erin and kelly\n",
            "kelly and erin\n",
            "darryl and angela\n",
            "darryl & oscar\n",
            "dwight, erin, jim & kevin\n",
            "andy & walter\n",
            "andy & walter\n",
            "andy & walter\n",
            "walter & walter jr\n",
            "pam and kelly\n",
            "andy and darryl\n",
            "andy and darryl\n",
            "darryl and kevin\n",
            "andy and darryl\n",
            "meredith & kelly\n",
            "andy, darryl & officer foley\n",
            "erin and irene\n",
            "kevin & meredith\n",
            "andy & erin\n",
            "robert & creed\n",
            "nellie and pam\n",
            "phyllis, kevin & stanley\n",
            "pam & dwight\n",
            "angela & oscar\n",
            "bob vance, vance refrigeration\n",
            "angela & oscar\n",
            "jim & dwight\n",
            "jim & dwight\n",
            "angela & oscar\n",
            "\n"
          ]
        }
      ]
    },
    {
      "cell_type": "code",
      "source": [
        "def split_jinx(row):\n",
        "  \"\"\" Also referd as 'Jinx, buy me a coke!' \"\"\"\n",
        "  for union_char in ['&', ',', 'and ']:\n",
        "    row.speaker = row.speaker.strip()\n",
        "    if union_char in row.speaker:\n",
        "      row.speaker = row.speaker.replace('and ', ',').replace('&', ',')\n",
        "      row.speaker = re.findall(r'[\\w']+', row.speaker)\n",
        "      break\n",
        "\n",
        "  return row\n",
        "\n",
        "def separated_jinx_dialogs(raw_df):\n",
        "  df = data_cleaning(raw_df)\n",
        "  df = df.apply(split_jinx, axis=1)\n",
        "  df = df.explode('speaker').reset_index()\n",
        "  return df"
      ],
      "metadata": {
        "id": "V5F9PY9a-OPC"
      },
      "execution_count": null,
      "outputs": []
    },
    {
      "cell_type": "code",
      "source": [
        "df_speakers_splited = separated_jinx_dialogs(raw_df)\n",
        "speakers_count = df_speakers_splited.speaker.value_counts()\n",
        "len(speakers_count)"
      ],
      "metadata": {
        "id": "ySVw5zehkWKv",
        "colab": {
          "base_uri": "https://localhost:8080/"
        },
        "outputId": "43233005-e8ed-4a1a-8b23-fd3a44ae9f00"
      },
      "execution_count": null,
      "outputs": [
        {
          "output_type": "execute_result",
          "data": {
            "text/plain": [
              "689"
            ]
          },
          "metadata": {},
          "execution_count": 15
        }
      ]
    },
    {
      "cell_type": "markdown",
      "source": [
        "We can say that strictly there are 589 characters in the 9 seasons of the office. \n",
        "\n",
        "Because we want to get the characters that have more impact in the serie i wanted to filter by how many times they spoke."
      ],
      "metadata": {
        "id": "zTtajOq1lDH0"
      }
    },
    {
      "cell_type": "code",
      "source": [
        "dialgs = []\n",
        "label = []\n",
        "\n",
        "for lines in range(0, 250, 20):\n",
        "  dialgs.append(sum( dialogs > lines for dialogs in speakers_count)) \n",
        "  label.append(f'Characters that spoke more than {lines} lines')"
      ],
      "metadata": {
        "id": "jalk9g_zliJw"
      },
      "execution_count": null,
      "outputs": []
    },
    {
      "cell_type": "code",
      "source": [
        "fig = go.Figure(go.Bar(\n",
        "            x=dialgs,\n",
        "            y=label,\n",
        "            orientation='h'))\n",
        "\n",
        "fig.show()\n"
      ],
      "metadata": {
        "colab": {
          "base_uri": "https://localhost:8080/",
          "height": 542
        },
        "id": "s_t1i8mNmUsN",
        "outputId": "3ed50550-ee9e-4b88-bf5f-2c3b0f9a3c04"
      },
      "execution_count": null,
      "outputs": [
        {
          "output_type": "display_data",
          "data": {
            "text/html": [
              "<html>\n",
              "<head><meta charset=\"utf-8\" /></head>\n",
              "<body>\n",
              "    <div>            <script src=\"https://cdnjs.cloudflare.com/ajax/libs/mathjax/2.7.5/MathJax.js?config=TeX-AMS-MML_SVG\"></script><script type=\"text/javascript\">if (window.MathJax) {MathJax.Hub.Config({SVG: {font: \"STIX-Web\"}});}</script>                <script type=\"text/javascript\">window.PlotlyConfig = {MathJaxConfig: 'local'};</script>\n",
              "        <script src=\"https://cdn.plot.ly/plotly-2.8.3.min.js\"></script>                <div id=\"8fcdcdeb-2103-4eab-b793-0068684f58a1\" class=\"plotly-graph-div\" style=\"height:525px; width:100%;\"></div>            <script type=\"text/javascript\">                                    window.PLOTLYENV=window.PLOTLYENV || {};                                    if (document.getElementById(\"8fcdcdeb-2103-4eab-b793-0068684f58a1\")) {                    Plotly.newPlot(                        \"8fcdcdeb-2103-4eab-b793-0068684f58a1\",                        [{\"orientation\":\"h\",\"x\":[689,86,50,39,34,31,30,30,30,30,29,28,26],\"y\":[\"Characters that spoke more than 0 lines\",\"Characters that spoke more than 20 lines\",\"Characters that spoke more than 40 lines\",\"Characters that spoke more than 60 lines\",\"Characters that spoke more than 80 lines\",\"Characters that spoke more than 100 lines\",\"Characters that spoke more than 120 lines\",\"Characters that spoke more than 140 lines\",\"Characters that spoke more than 160 lines\",\"Characters that spoke more than 180 lines\",\"Characters that spoke more than 200 lines\",\"Characters that spoke more than 220 lines\",\"Characters that spoke more than 240 lines\"],\"type\":\"bar\"}],                        {\"template\":{\"data\":{\"bar\":[{\"error_x\":{\"color\":\"#2a3f5f\"},\"error_y\":{\"color\":\"#2a3f5f\"},\"marker\":{\"line\":{\"color\":\"#E5ECF6\",\"width\":0.5},\"pattern\":{\"fillmode\":\"overlay\",\"size\":10,\"solidity\":0.2}},\"type\":\"bar\"}],\"barpolar\":[{\"marker\":{\"line\":{\"color\":\"#E5ECF6\",\"width\":0.5},\"pattern\":{\"fillmode\":\"overlay\",\"size\":10,\"solidity\":0.2}},\"type\":\"barpolar\"}],\"carpet\":[{\"aaxis\":{\"endlinecolor\":\"#2a3f5f\",\"gridcolor\":\"white\",\"linecolor\":\"white\",\"minorgridcolor\":\"white\",\"startlinecolor\":\"#2a3f5f\"},\"baxis\":{\"endlinecolor\":\"#2a3f5f\",\"gridcolor\":\"white\",\"linecolor\":\"white\",\"minorgridcolor\":\"white\",\"startlinecolor\":\"#2a3f5f\"},\"type\":\"carpet\"}],\"choropleth\":[{\"colorbar\":{\"outlinewidth\":0,\"ticks\":\"\"},\"type\":\"choropleth\"}],\"contour\":[{\"colorbar\":{\"outlinewidth\":0,\"ticks\":\"\"},\"colorscale\":[[0.0,\"#0d0887\"],[0.1111111111111111,\"#46039f\"],[0.2222222222222222,\"#7201a8\"],[0.3333333333333333,\"#9c179e\"],[0.4444444444444444,\"#bd3786\"],[0.5555555555555556,\"#d8576b\"],[0.6666666666666666,\"#ed7953\"],[0.7777777777777778,\"#fb9f3a\"],[0.8888888888888888,\"#fdca26\"],[1.0,\"#f0f921\"]],\"type\":\"contour\"}],\"contourcarpet\":[{\"colorbar\":{\"outlinewidth\":0,\"ticks\":\"\"},\"type\":\"contourcarpet\"}],\"heatmap\":[{\"colorbar\":{\"outlinewidth\":0,\"ticks\":\"\"},\"colorscale\":[[0.0,\"#0d0887\"],[0.1111111111111111,\"#46039f\"],[0.2222222222222222,\"#7201a8\"],[0.3333333333333333,\"#9c179e\"],[0.4444444444444444,\"#bd3786\"],[0.5555555555555556,\"#d8576b\"],[0.6666666666666666,\"#ed7953\"],[0.7777777777777778,\"#fb9f3a\"],[0.8888888888888888,\"#fdca26\"],[1.0,\"#f0f921\"]],\"type\":\"heatmap\"}],\"heatmapgl\":[{\"colorbar\":{\"outlinewidth\":0,\"ticks\":\"\"},\"colorscale\":[[0.0,\"#0d0887\"],[0.1111111111111111,\"#46039f\"],[0.2222222222222222,\"#7201a8\"],[0.3333333333333333,\"#9c179e\"],[0.4444444444444444,\"#bd3786\"],[0.5555555555555556,\"#d8576b\"],[0.6666666666666666,\"#ed7953\"],[0.7777777777777778,\"#fb9f3a\"],[0.8888888888888888,\"#fdca26\"],[1.0,\"#f0f921\"]],\"type\":\"heatmapgl\"}],\"histogram\":[{\"marker\":{\"pattern\":{\"fillmode\":\"overlay\",\"size\":10,\"solidity\":0.2}},\"type\":\"histogram\"}],\"histogram2d\":[{\"colorbar\":{\"outlinewidth\":0,\"ticks\":\"\"},\"colorscale\":[[0.0,\"#0d0887\"],[0.1111111111111111,\"#46039f\"],[0.2222222222222222,\"#7201a8\"],[0.3333333333333333,\"#9c179e\"],[0.4444444444444444,\"#bd3786\"],[0.5555555555555556,\"#d8576b\"],[0.6666666666666666,\"#ed7953\"],[0.7777777777777778,\"#fb9f3a\"],[0.8888888888888888,\"#fdca26\"],[1.0,\"#f0f921\"]],\"type\":\"histogram2d\"}],\"histogram2dcontour\":[{\"colorbar\":{\"outlinewidth\":0,\"ticks\":\"\"},\"colorscale\":[[0.0,\"#0d0887\"],[0.1111111111111111,\"#46039f\"],[0.2222222222222222,\"#7201a8\"],[0.3333333333333333,\"#9c179e\"],[0.4444444444444444,\"#bd3786\"],[0.5555555555555556,\"#d8576b\"],[0.6666666666666666,\"#ed7953\"],[0.7777777777777778,\"#fb9f3a\"],[0.8888888888888888,\"#fdca26\"],[1.0,\"#f0f921\"]],\"type\":\"histogram2dcontour\"}],\"mesh3d\":[{\"colorbar\":{\"outlinewidth\":0,\"ticks\":\"\"},\"type\":\"mesh3d\"}],\"parcoords\":[{\"line\":{\"colorbar\":{\"outlinewidth\":0,\"ticks\":\"\"}},\"type\":\"parcoords\"}],\"pie\":[{\"automargin\":true,\"type\":\"pie\"}],\"scatter\":[{\"marker\":{\"colorbar\":{\"outlinewidth\":0,\"ticks\":\"\"}},\"type\":\"scatter\"}],\"scatter3d\":[{\"line\":{\"colorbar\":{\"outlinewidth\":0,\"ticks\":\"\"}},\"marker\":{\"colorbar\":{\"outlinewidth\":0,\"ticks\":\"\"}},\"type\":\"scatter3d\"}],\"scattercarpet\":[{\"marker\":{\"colorbar\":{\"outlinewidth\":0,\"ticks\":\"\"}},\"type\":\"scattercarpet\"}],\"scattergeo\":[{\"marker\":{\"colorbar\":{\"outlinewidth\":0,\"ticks\":\"\"}},\"type\":\"scattergeo\"}],\"scattergl\":[{\"marker\":{\"colorbar\":{\"outlinewidth\":0,\"ticks\":\"\"}},\"type\":\"scattergl\"}],\"scattermapbox\":[{\"marker\":{\"colorbar\":{\"outlinewidth\":0,\"ticks\":\"\"}},\"type\":\"scattermapbox\"}],\"scatterpolar\":[{\"marker\":{\"colorbar\":{\"outlinewidth\":0,\"ticks\":\"\"}},\"type\":\"scatterpolar\"}],\"scatterpolargl\":[{\"marker\":{\"colorbar\":{\"outlinewidth\":0,\"ticks\":\"\"}},\"type\":\"scatterpolargl\"}],\"scatterternary\":[{\"marker\":{\"colorbar\":{\"outlinewidth\":0,\"ticks\":\"\"}},\"type\":\"scatterternary\"}],\"surface\":[{\"colorbar\":{\"outlinewidth\":0,\"ticks\":\"\"},\"colorscale\":[[0.0,\"#0d0887\"],[0.1111111111111111,\"#46039f\"],[0.2222222222222222,\"#7201a8\"],[0.3333333333333333,\"#9c179e\"],[0.4444444444444444,\"#bd3786\"],[0.5555555555555556,\"#d8576b\"],[0.6666666666666666,\"#ed7953\"],[0.7777777777777778,\"#fb9f3a\"],[0.8888888888888888,\"#fdca26\"],[1.0,\"#f0f921\"]],\"type\":\"surface\"}],\"table\":[{\"cells\":{\"fill\":{\"color\":\"#EBF0F8\"},\"line\":{\"color\":\"white\"}},\"header\":{\"fill\":{\"color\":\"#C8D4E3\"},\"line\":{\"color\":\"white\"}},\"type\":\"table\"}]},\"layout\":{\"annotationdefaults\":{\"arrowcolor\":\"#2a3f5f\",\"arrowhead\":0,\"arrowwidth\":1},\"autotypenumbers\":\"strict\",\"coloraxis\":{\"colorbar\":{\"outlinewidth\":0,\"ticks\":\"\"}},\"colorscale\":{\"diverging\":[[0,\"#8e0152\"],[0.1,\"#c51b7d\"],[0.2,\"#de77ae\"],[0.3,\"#f1b6da\"],[0.4,\"#fde0ef\"],[0.5,\"#f7f7f7\"],[0.6,\"#e6f5d0\"],[0.7,\"#b8e186\"],[0.8,\"#7fbc41\"],[0.9,\"#4d9221\"],[1,\"#276419\"]],\"sequential\":[[0.0,\"#0d0887\"],[0.1111111111111111,\"#46039f\"],[0.2222222222222222,\"#7201a8\"],[0.3333333333333333,\"#9c179e\"],[0.4444444444444444,\"#bd3786\"],[0.5555555555555556,\"#d8576b\"],[0.6666666666666666,\"#ed7953\"],[0.7777777777777778,\"#fb9f3a\"],[0.8888888888888888,\"#fdca26\"],[1.0,\"#f0f921\"]],\"sequentialminus\":[[0.0,\"#0d0887\"],[0.1111111111111111,\"#46039f\"],[0.2222222222222222,\"#7201a8\"],[0.3333333333333333,\"#9c179e\"],[0.4444444444444444,\"#bd3786\"],[0.5555555555555556,\"#d8576b\"],[0.6666666666666666,\"#ed7953\"],[0.7777777777777778,\"#fb9f3a\"],[0.8888888888888888,\"#fdca26\"],[1.0,\"#f0f921\"]]},\"colorway\":[\"#636efa\",\"#EF553B\",\"#00cc96\",\"#ab63fa\",\"#FFA15A\",\"#19d3f3\",\"#FF6692\",\"#B6E880\",\"#FF97FF\",\"#FECB52\"],\"font\":{\"color\":\"#2a3f5f\"},\"geo\":{\"bgcolor\":\"white\",\"lakecolor\":\"white\",\"landcolor\":\"#E5ECF6\",\"showlakes\":true,\"showland\":true,\"subunitcolor\":\"white\"},\"hoverlabel\":{\"align\":\"left\"},\"hovermode\":\"closest\",\"mapbox\":{\"style\":\"light\"},\"paper_bgcolor\":\"white\",\"plot_bgcolor\":\"#E5ECF6\",\"polar\":{\"angularaxis\":{\"gridcolor\":\"white\",\"linecolor\":\"white\",\"ticks\":\"\"},\"bgcolor\":\"#E5ECF6\",\"radialaxis\":{\"gridcolor\":\"white\",\"linecolor\":\"white\",\"ticks\":\"\"}},\"scene\":{\"xaxis\":{\"backgroundcolor\":\"#E5ECF6\",\"gridcolor\":\"white\",\"gridwidth\":2,\"linecolor\":\"white\",\"showbackground\":true,\"ticks\":\"\",\"zerolinecolor\":\"white\"},\"yaxis\":{\"backgroundcolor\":\"#E5ECF6\",\"gridcolor\":\"white\",\"gridwidth\":2,\"linecolor\":\"white\",\"showbackground\":true,\"ticks\":\"\",\"zerolinecolor\":\"white\"},\"zaxis\":{\"backgroundcolor\":\"#E5ECF6\",\"gridcolor\":\"white\",\"gridwidth\":2,\"linecolor\":\"white\",\"showbackground\":true,\"ticks\":\"\",\"zerolinecolor\":\"white\"}},\"shapedefaults\":{\"line\":{\"color\":\"#2a3f5f\"}},\"ternary\":{\"aaxis\":{\"gridcolor\":\"white\",\"linecolor\":\"white\",\"ticks\":\"\"},\"baxis\":{\"gridcolor\":\"white\",\"linecolor\":\"white\",\"ticks\":\"\"},\"bgcolor\":\"#E5ECF6\",\"caxis\":{\"gridcolor\":\"white\",\"linecolor\":\"white\",\"ticks\":\"\"}},\"title\":{\"x\":0.05},\"xaxis\":{\"automargin\":true,\"gridcolor\":\"white\",\"linecolor\":\"white\",\"ticks\":\"\",\"title\":{\"standoff\":15},\"zerolinecolor\":\"white\",\"zerolinewidth\":2},\"yaxis\":{\"automargin\":true,\"gridcolor\":\"white\",\"linecolor\":\"white\",\"ticks\":\"\",\"title\":{\"standoff\":15},\"zerolinecolor\":\"white\",\"zerolinewidth\":2}}}},                        {\"responsive\": true}                    ).then(function(){\n",
              "                            \n",
              "var gd = document.getElementById('8fcdcdeb-2103-4eab-b793-0068684f58a1');\n",
              "var x = new MutationObserver(function (mutations, observer) {{\n",
              "        var display = window.getComputedStyle(gd).display;\n",
              "        if (!display || display === 'none') {{\n",
              "            console.log([gd, 'removed!']);\n",
              "            Plotly.purge(gd);\n",
              "            observer.disconnect();\n",
              "        }}\n",
              "}});\n",
              "\n",
              "// Listen for the removal of the full notebook cells\n",
              "var notebookContainer = gd.closest('#notebook-container');\n",
              "if (notebookContainer) {{\n",
              "    x.observe(notebookContainer, {childList: true});\n",
              "}}\n",
              "\n",
              "// Listen for the clearing of the current output cell\n",
              "var outputEl = gd.closest('.output');\n",
              "if (outputEl) {{\n",
              "    x.observe(outputEl, {childList: true});\n",
              "}}\n",
              "\n",
              "                        })                };                            </script>        </div>\n",
              "</body>\n",
              "</html>"
            ]
          },
          "metadata": {}
        }
      ]
    },
    {
      "cell_type": "markdown",
      "source": [
        "To be considered a character, is probably best to set a minimun lines spoken in the hole 9 seasons. \n",
        "\n",
        "We can se that the amount of characters stabilize around 30-40. Here we can avoid considering extras as characters. And from now on, with respect to them we will consider the following questions.\n",
        "\n",
        "Their names are: "
      ],
      "metadata": {
        "id": "ylh3eTY2U02w"
      }
    },
    {
      "cell_type": "code",
      "source": [
        "main_characters = speakers_count[:35].index.tolist()\n",
        "\n",
        "names = '  '.join(main_characters[:10])   \\\n",
        "  + '\\n' \\\n",
        "  + '  '.join(main_characters[10:20]) \\\n",
        "  + '\\n' \\\n",
        "  + '  '.join(main_characters[20:30]) \\\n",
        "  + '\\n' \\\n",
        "  + '  '.join(main_characters[30:]) \n",
        "\n",
        "print(names)"
      ],
      "metadata": {
        "colab": {
          "base_uri": "https://localhost:8080/"
        },
        "id": "Br5yXS88YSt5",
        "outputId": "43fb7f7d-63a5-47bf-941c-d62168aa1b35"
      },
      "execution_count": null,
      "outputs": [
        {
          "output_type": "stream",
          "name": "stdout",
          "text": [
            "michael  dwight  jim  pam  andy  kevin  angela  erin  oscar  ryan\n",
            "darryl  phyllis  kelly  jan  toby  stanley  meredith  holly  nellie  creed\n",
            "gabe  robert  david  karen  clark  deangelo  roy  charles  pete  jo\n",
            "david wallace  carol  katy  donna  val\n"
          ]
        }
      ]
    },
    {
      "cell_type": "markdown",
      "source": [
        "## 2 For each character, find out who has the most lines across all episodes"
      ],
      "metadata": {
        "id": "_LLloIgtBEz8"
      }
    },
    {
      "cell_type": "markdown",
      "source": [
        "Using the same dataset as before we can get that solution easily"
      ],
      "metadata": {
        "id": "veaqSLCHBIm1"
      }
    },
    {
      "cell_type": "code",
      "source": [
        "print('Character with most lines: ',\n",
        "      df_speakers_splited.speaker.value_counts().idxmax())\n",
        "print('Amount of lines: ', speakers_count[0])"
      ],
      "metadata": {
        "id": "s_UYuh40BJBX",
        "colab": {
          "base_uri": "https://localhost:8080/"
        },
        "outputId": "b9362d9a-a1c8-42d3-f249-75df4bac188c"
      },
      "execution_count": null,
      "outputs": [
        {
          "output_type": "stream",
          "name": "stdout",
          "text": [
            "Character with most lines:  michael\n",
            "Amount of lines:  11625\n"
          ]
        }
      ]
    },
    {
      "cell_type": "markdown",
      "source": [
        "## 3 What is the average of words per line for each character?"
      ],
      "metadata": {
        "id": "ylhM1oOpJPpS"
      }
    },
    {
      "cell_type": "markdown",
      "source": [
        "For this question we will clean the punctuation and remove the stop words, to check the real words per line. "
      ],
      "metadata": {
        "id": "Nls56P-WVLBF"
      }
    },
    {
      "cell_type": "code",
      "source": [
        "def get_words_per_line_features(df, main_characters, stop_words):\n",
        "  # Keep just main characters\n",
        "  df = df[df.speaker.isin(main_characters)]\n",
        "  # Clean punctuation\n",
        "  amount_of_words_line = df.line_text.apply(clean_punctuation)\n",
        "  # Get amount of words per line\n",
        "  amount_of_words_line =  amount_of_words_line.apply(\n",
        "    lambda row: len([word for word in row.split() if word not in (stop_words)])\n",
        "  )\n",
        "  df = df.assign(amount_of_words_line=amount_of_words_line)\n",
        "  # Group by spealer and get stats of the amount of words\n",
        "  df_grouped = df.groupby('speaker') \\\n",
        "    .amount_of_words_line.agg(\n",
        "        ['max', 'min', 'count', 'median', 'mean', 'std']\n",
        "      )\n",
        "  # Sort the values for better visualization \n",
        "  df_grouped = df_grouped.sort_values(by='mean')\n",
        "  return df_grouped.reset_index()"
      ],
      "metadata": {
        "id": "k7ZHwUZ2JT6U"
      },
      "execution_count": null,
      "outputs": []
    },
    {
      "cell_type": "code",
      "source": [
        "words_info = get_words_per_line_features(\n",
        "    df_speakers_splited, \n",
        "    main_characters, \n",
        "    stop_words)\n",
        "words_info.tail()"
      ],
      "metadata": {
        "colab": {
          "base_uri": "https://localhost:8080/",
          "height": 206
        },
        "id": "axyjDY31rYis",
        "outputId": "59a68203-91d1-4b96-f0a6-e97f0fdbd491"
      },
      "execution_count": null,
      "outputs": [
        {
          "output_type": "execute_result",
          "data": {
            "text/plain": [
              "     speaker  max  min  count  median       mean        std\n",
              "30    Robert   68    1    431     5.0   8.092807   8.922703\n",
              "31   Michael  106    1  11624     5.0   8.176875   8.993016\n",
              "32  Deangelo   75    1    171     6.0   8.187135   8.859031\n",
              "33        Jo   45    1    194     6.0   8.427835   8.312388\n",
              "34  DeAngelo   93    1     79     6.0  10.924051  14.855520"
            ],
            "text/html": [
              "\n",
              "  <div id=\"df-a370a4ad-06ca-4014-b080-82bc88a08056\">\n",
              "    <div class=\"colab-df-container\">\n",
              "      <div>\n",
              "<style scoped>\n",
              "    .dataframe tbody tr th:only-of-type {\n",
              "        vertical-align: middle;\n",
              "    }\n",
              "\n",
              "    .dataframe tbody tr th {\n",
              "        vertical-align: top;\n",
              "    }\n",
              "\n",
              "    .dataframe thead th {\n",
              "        text-align: right;\n",
              "    }\n",
              "</style>\n",
              "<table border=\"1\" class=\"dataframe\">\n",
              "  <thead>\n",
              "    <tr style=\"text-align: right;\">\n",
              "      <th></th>\n",
              "      <th>speaker</th>\n",
              "      <th>max</th>\n",
              "      <th>min</th>\n",
              "      <th>count</th>\n",
              "      <th>median</th>\n",
              "      <th>mean</th>\n",
              "      <th>std</th>\n",
              "    </tr>\n",
              "  </thead>\n",
              "  <tbody>\n",
              "    <tr>\n",
              "      <th>30</th>\n",
              "      <td>Robert</td>\n",
              "      <td>68</td>\n",
              "      <td>1</td>\n",
              "      <td>431</td>\n",
              "      <td>5.0</td>\n",
              "      <td>8.092807</td>\n",
              "      <td>8.922703</td>\n",
              "    </tr>\n",
              "    <tr>\n",
              "      <th>31</th>\n",
              "      <td>Michael</td>\n",
              "      <td>106</td>\n",
              "      <td>1</td>\n",
              "      <td>11624</td>\n",
              "      <td>5.0</td>\n",
              "      <td>8.176875</td>\n",
              "      <td>8.993016</td>\n",
              "    </tr>\n",
              "    <tr>\n",
              "      <th>32</th>\n",
              "      <td>Deangelo</td>\n",
              "      <td>75</td>\n",
              "      <td>1</td>\n",
              "      <td>171</td>\n",
              "      <td>6.0</td>\n",
              "      <td>8.187135</td>\n",
              "      <td>8.859031</td>\n",
              "    </tr>\n",
              "    <tr>\n",
              "      <th>33</th>\n",
              "      <td>Jo</td>\n",
              "      <td>45</td>\n",
              "      <td>1</td>\n",
              "      <td>194</td>\n",
              "      <td>6.0</td>\n",
              "      <td>8.427835</td>\n",
              "      <td>8.312388</td>\n",
              "    </tr>\n",
              "    <tr>\n",
              "      <th>34</th>\n",
              "      <td>DeAngelo</td>\n",
              "      <td>93</td>\n",
              "      <td>1</td>\n",
              "      <td>79</td>\n",
              "      <td>6.0</td>\n",
              "      <td>10.924051</td>\n",
              "      <td>14.855520</td>\n",
              "    </tr>\n",
              "  </tbody>\n",
              "</table>\n",
              "</div>\n",
              "      <button class=\"colab-df-convert\" onclick=\"convertToInteractive('df-a370a4ad-06ca-4014-b080-82bc88a08056')\"\n",
              "              title=\"Convert this dataframe to an interactive table.\"\n",
              "              style=\"display:none;\">\n",
              "        \n",
              "  <svg xmlns=\"http://www.w3.org/2000/svg\" height=\"24px\"viewBox=\"0 0 24 24\"\n",
              "       width=\"24px\">\n",
              "    <path d=\"M0 0h24v24H0V0z\" fill=\"none\"/>\n",
              "    <path d=\"M18.56 5.44l.94 2.06.94-2.06 2.06-.94-2.06-.94-.94-2.06-.94 2.06-2.06.94zm-11 1L8.5 8.5l.94-2.06 2.06-.94-2.06-.94L8.5 2.5l-.94 2.06-2.06.94zm10 10l.94 2.06.94-2.06 2.06-.94-2.06-.94-.94-2.06-.94 2.06-2.06.94z\"/><path d=\"M17.41 7.96l-1.37-1.37c-.4-.4-.92-.59-1.43-.59-.52 0-1.04.2-1.43.59L10.3 9.45l-7.72 7.72c-.78.78-.78 2.05 0 2.83L4 21.41c.39.39.9.59 1.41.59.51 0 1.02-.2 1.41-.59l7.78-7.78 2.81-2.81c.8-.78.8-2.07 0-2.86zM5.41 20L4 18.59l7.72-7.72 1.47 1.35L5.41 20z\"/>\n",
              "  </svg>\n",
              "      </button>\n",
              "      \n",
              "  <style>\n",
              "    .colab-df-container {\n",
              "      display:flex;\n",
              "      flex-wrap:wrap;\n",
              "      gap: 12px;\n",
              "    }\n",
              "\n",
              "    .colab-df-convert {\n",
              "      background-color: #E8F0FE;\n",
              "      border: none;\n",
              "      border-radius: 50%;\n",
              "      cursor: pointer;\n",
              "      display: none;\n",
              "      fill: #1967D2;\n",
              "      height: 32px;\n",
              "      padding: 0 0 0 0;\n",
              "      width: 32px;\n",
              "    }\n",
              "\n",
              "    .colab-df-convert:hover {\n",
              "      background-color: #E2EBFA;\n",
              "      box-shadow: 0px 1px 2px rgba(60, 64, 67, 0.3), 0px 1px 3px 1px rgba(60, 64, 67, 0.15);\n",
              "      fill: #174EA6;\n",
              "    }\n",
              "\n",
              "    [theme=dark] .colab-df-convert {\n",
              "      background-color: #3B4455;\n",
              "      fill: #D2E3FC;\n",
              "    }\n",
              "\n",
              "    [theme=dark] .colab-df-convert:hover {\n",
              "      background-color: #434B5C;\n",
              "      box-shadow: 0px 1px 3px 1px rgba(0, 0, 0, 0.15);\n",
              "      filter: drop-shadow(0px 1px 2px rgba(0, 0, 0, 0.3));\n",
              "      fill: #FFFFFF;\n",
              "    }\n",
              "  </style>\n",
              "\n",
              "      <script>\n",
              "        const buttonEl =\n",
              "          document.querySelector('#df-a370a4ad-06ca-4014-b080-82bc88a08056 button.colab-df-convert');\n",
              "        buttonEl.style.display =\n",
              "          google.colab.kernel.accessAllowed ? 'block' : 'none';\n",
              "\n",
              "        async function convertToInteractive(key) {\n",
              "          const element = document.querySelector('#df-a370a4ad-06ca-4014-b080-82bc88a08056');\n",
              "          const dataTable =\n",
              "            await google.colab.kernel.invokeFunction('convertToInteractive',\n",
              "                                                     [key], {});\n",
              "          if (!dataTable) return;\n",
              "\n",
              "          const docLinkHtml = 'Like what you see? Visit the ' +\n",
              "            '<a target=\"_blank\" href=https://colab.research.google.com/notebooks/data_table.ipynb>data table notebook</a>'\n",
              "            + ' to learn more about interactive tables.';\n",
              "          element.innerHTML = '';\n",
              "          dataTable['output_type'] = 'display_data';\n",
              "          await google.colab.output.renderOutput(dataTable, element);\n",
              "          const docLink = document.createElement('div');\n",
              "          docLink.innerHTML = docLinkHtml;\n",
              "          element.appendChild(docLink);\n",
              "        }\n",
              "      </script>\n",
              "    </div>\n",
              "  </div>\n",
              "  "
            ]
          },
          "metadata": {},
          "execution_count": 20
        }
      ]
    },
    {
      "cell_type": "code",
      "source": [
        "fig = make_subplots(rows=1, cols=2)\n",
        "\n",
        "fig.add_trace(\n",
        "    go.Bar(\n",
        "      name='Mean',\n",
        "      x=words_info['mean'].to_list(),\n",
        "      y=words_info.speaker.to_list(),\n",
        "      orientation='h'),\n",
        "    row=1, col=1\n",
        ")\n",
        "\n",
        "fig.add_trace(\n",
        "    go.Bar(\n",
        "      name='Std',\n",
        "      x=words_info['std'].to_list(),\n",
        "      y=words_info.speaker.to_list(),\n",
        "      orientation='h'),\n",
        "    row=1, col=2\n",
        ")\n",
        "\n",
        "fig.update_layout(height=1000, width=1500, title_text='Mean and standar deviation in words per line for each character')\n",
        "fig.show()"
      ],
      "metadata": {
        "colab": {
          "base_uri": "https://localhost:8080/",
          "height": 1000
        },
        "id": "5P5N235ivPQC",
        "outputId": "7f3f39ae-7cd1-4f45-a2b7-ff8757d81d3f"
      },
      "execution_count": null,
      "outputs": [
        {
          "output_type": "display_data",
          "data": {
            "text/html": [
              "<html>\n",
              "<head><meta charset=\"utf-8\" /></head>\n",
              "<body>\n",
              "    <div>            <script src=\"https://cdnjs.cloudflare.com/ajax/libs/mathjax/2.7.5/MathJax.js?config=TeX-AMS-MML_SVG\"></script><script type=\"text/javascript\">if (window.MathJax) {MathJax.Hub.Config({SVG: {font: \"STIX-Web\"}});}</script>                <script type=\"text/javascript\">window.PlotlyConfig = {MathJaxConfig: 'local'};</script>\n",
              "        <script src=\"https://cdn.plot.ly/plotly-2.8.3.min.js\"></script>                <div id=\"8edd7029-a760-400d-af86-2ed1c388c589\" class=\"plotly-graph-div\" style=\"height:1000px; width:1500px;\"></div>            <script type=\"text/javascript\">                                    window.PLOTLYENV=window.PLOTLYENV || {};                                    if (document.getElementById(\"8edd7029-a760-400d-af86-2ed1c388c589\")) {                    Plotly.newPlot(                        \"8edd7029-a760-400d-af86-2ed1c388c589\",                        [{\"name\":\"Mean\",\"orientation\":\"h\",\"x\":[3.376470588235294,3.7471264367816093,4.560975609756097,4.711389961389961,4.886877828054299,4.941558441558442,5.0233644859813085,5.029411764705882,5.047244094488189,5.0978260869565215,5.24330755502677,5.2594594594594595,5.328049620951068,5.3681592039801,5.484978540772532,5.594211637021405,5.684672518568535,5.803114571746385,5.806282722513089,5.823076923076923,5.844444444444444,5.911361804995971,5.960629921259843,6.092592592592593,6.215189873417722,6.781818181818182,7.042688842688842,7.358551810237204,7.581132075471698,8.073394495412844,8.092807424593968,8.176875430144529,8.187134502923977,8.427835051546392,10.924050632911392],\"y\":[\"Katy\",\"Carol\",\"Donna\",\"Phyllis\",\"Charles\",\"Holly\",\"Pete\",\"Karen\",\"Meredith\",\"Stanley\",\"Kevin\",\"Angela\",\"Oscar\",\"Pam\",\"Roy\",\"Jim\",\"Erin\",\"Jan\",\"David\",\"Clark\",\"Ryan\",\"Darryl\",\"Toby\",\"David Wallace\",\"Kelly\",\"Creed\",\"Dwight\",\"Andy\",\"Nellie\",\"Gabe\",\"Robert\",\"Michael\",\"Deangelo\",\"Jo\",\"DeAngelo\"],\"type\":\"bar\",\"xaxis\":\"x\",\"yaxis\":\"y\"},{\"name\":\"Std\",\"orientation\":\"h\",\"x\":[2.8367338302226055,2.5979347379086537,4.294980018279766,4.065491110496041,3.6805211746197513,4.637755292453085,5.180716854330318,4.2888707875511445,3.8551417337533875,4.549494480662334,5.033192635016757,5.254457443442473,4.958437488900024,5.663678647851812,5.072830530389791,5.761290185825217,5.7628670409091445,5.7839875040295174,5.564148672532205,5.193499626690887,5.861739192998518,5.538592592171414,5.897359888696502,6.79408351330325,5.616774287418015,6.246466800035932,7.287159693663226,7.258002569497058,7.683853805350132,7.370592604903891,8.922702649150311,8.993015654464358,8.859030519228734,8.312388435722296,14.855519695833628],\"y\":[\"Katy\",\"Carol\",\"Donna\",\"Phyllis\",\"Charles\",\"Holly\",\"Pete\",\"Karen\",\"Meredith\",\"Stanley\",\"Kevin\",\"Angela\",\"Oscar\",\"Pam\",\"Roy\",\"Jim\",\"Erin\",\"Jan\",\"David\",\"Clark\",\"Ryan\",\"Darryl\",\"Toby\",\"David Wallace\",\"Kelly\",\"Creed\",\"Dwight\",\"Andy\",\"Nellie\",\"Gabe\",\"Robert\",\"Michael\",\"Deangelo\",\"Jo\",\"DeAngelo\"],\"type\":\"bar\",\"xaxis\":\"x2\",\"yaxis\":\"y2\"}],                        {\"template\":{\"data\":{\"bar\":[{\"error_x\":{\"color\":\"#2a3f5f\"},\"error_y\":{\"color\":\"#2a3f5f\"},\"marker\":{\"line\":{\"color\":\"#E5ECF6\",\"width\":0.5},\"pattern\":{\"fillmode\":\"overlay\",\"size\":10,\"solidity\":0.2}},\"type\":\"bar\"}],\"barpolar\":[{\"marker\":{\"line\":{\"color\":\"#E5ECF6\",\"width\":0.5},\"pattern\":{\"fillmode\":\"overlay\",\"size\":10,\"solidity\":0.2}},\"type\":\"barpolar\"}],\"carpet\":[{\"aaxis\":{\"endlinecolor\":\"#2a3f5f\",\"gridcolor\":\"white\",\"linecolor\":\"white\",\"minorgridcolor\":\"white\",\"startlinecolor\":\"#2a3f5f\"},\"baxis\":{\"endlinecolor\":\"#2a3f5f\",\"gridcolor\":\"white\",\"linecolor\":\"white\",\"minorgridcolor\":\"white\",\"startlinecolor\":\"#2a3f5f\"},\"type\":\"carpet\"}],\"choropleth\":[{\"colorbar\":{\"outlinewidth\":0,\"ticks\":\"\"},\"type\":\"choropleth\"}],\"contour\":[{\"colorbar\":{\"outlinewidth\":0,\"ticks\":\"\"},\"colorscale\":[[0.0,\"#0d0887\"],[0.1111111111111111,\"#46039f\"],[0.2222222222222222,\"#7201a8\"],[0.3333333333333333,\"#9c179e\"],[0.4444444444444444,\"#bd3786\"],[0.5555555555555556,\"#d8576b\"],[0.6666666666666666,\"#ed7953\"],[0.7777777777777778,\"#fb9f3a\"],[0.8888888888888888,\"#fdca26\"],[1.0,\"#f0f921\"]],\"type\":\"contour\"}],\"contourcarpet\":[{\"colorbar\":{\"outlinewidth\":0,\"ticks\":\"\"},\"type\":\"contourcarpet\"}],\"heatmap\":[{\"colorbar\":{\"outlinewidth\":0,\"ticks\":\"\"},\"colorscale\":[[0.0,\"#0d0887\"],[0.1111111111111111,\"#46039f\"],[0.2222222222222222,\"#7201a8\"],[0.3333333333333333,\"#9c179e\"],[0.4444444444444444,\"#bd3786\"],[0.5555555555555556,\"#d8576b\"],[0.6666666666666666,\"#ed7953\"],[0.7777777777777778,\"#fb9f3a\"],[0.8888888888888888,\"#fdca26\"],[1.0,\"#f0f921\"]],\"type\":\"heatmap\"}],\"heatmapgl\":[{\"colorbar\":{\"outlinewidth\":0,\"ticks\":\"\"},\"colorscale\":[[0.0,\"#0d0887\"],[0.1111111111111111,\"#46039f\"],[0.2222222222222222,\"#7201a8\"],[0.3333333333333333,\"#9c179e\"],[0.4444444444444444,\"#bd3786\"],[0.5555555555555556,\"#d8576b\"],[0.6666666666666666,\"#ed7953\"],[0.7777777777777778,\"#fb9f3a\"],[0.8888888888888888,\"#fdca26\"],[1.0,\"#f0f921\"]],\"type\":\"heatmapgl\"}],\"histogram\":[{\"marker\":{\"pattern\":{\"fillmode\":\"overlay\",\"size\":10,\"solidity\":0.2}},\"type\":\"histogram\"}],\"histogram2d\":[{\"colorbar\":{\"outlinewidth\":0,\"ticks\":\"\"},\"colorscale\":[[0.0,\"#0d0887\"],[0.1111111111111111,\"#46039f\"],[0.2222222222222222,\"#7201a8\"],[0.3333333333333333,\"#9c179e\"],[0.4444444444444444,\"#bd3786\"],[0.5555555555555556,\"#d8576b\"],[0.6666666666666666,\"#ed7953\"],[0.7777777777777778,\"#fb9f3a\"],[0.8888888888888888,\"#fdca26\"],[1.0,\"#f0f921\"]],\"type\":\"histogram2d\"}],\"histogram2dcontour\":[{\"colorbar\":{\"outlinewidth\":0,\"ticks\":\"\"},\"colorscale\":[[0.0,\"#0d0887\"],[0.1111111111111111,\"#46039f\"],[0.2222222222222222,\"#7201a8\"],[0.3333333333333333,\"#9c179e\"],[0.4444444444444444,\"#bd3786\"],[0.5555555555555556,\"#d8576b\"],[0.6666666666666666,\"#ed7953\"],[0.7777777777777778,\"#fb9f3a\"],[0.8888888888888888,\"#fdca26\"],[1.0,\"#f0f921\"]],\"type\":\"histogram2dcontour\"}],\"mesh3d\":[{\"colorbar\":{\"outlinewidth\":0,\"ticks\":\"\"},\"type\":\"mesh3d\"}],\"parcoords\":[{\"line\":{\"colorbar\":{\"outlinewidth\":0,\"ticks\":\"\"}},\"type\":\"parcoords\"}],\"pie\":[{\"automargin\":true,\"type\":\"pie\"}],\"scatter\":[{\"marker\":{\"colorbar\":{\"outlinewidth\":0,\"ticks\":\"\"}},\"type\":\"scatter\"}],\"scatter3d\":[{\"line\":{\"colorbar\":{\"outlinewidth\":0,\"ticks\":\"\"}},\"marker\":{\"colorbar\":{\"outlinewidth\":0,\"ticks\":\"\"}},\"type\":\"scatter3d\"}],\"scattercarpet\":[{\"marker\":{\"colorbar\":{\"outlinewidth\":0,\"ticks\":\"\"}},\"type\":\"scattercarpet\"}],\"scattergeo\":[{\"marker\":{\"colorbar\":{\"outlinewidth\":0,\"ticks\":\"\"}},\"type\":\"scattergeo\"}],\"scattergl\":[{\"marker\":{\"colorbar\":{\"outlinewidth\":0,\"ticks\":\"\"}},\"type\":\"scattergl\"}],\"scattermapbox\":[{\"marker\":{\"colorbar\":{\"outlinewidth\":0,\"ticks\":\"\"}},\"type\":\"scattermapbox\"}],\"scatterpolar\":[{\"marker\":{\"colorbar\":{\"outlinewidth\":0,\"ticks\":\"\"}},\"type\":\"scatterpolar\"}],\"scatterpolargl\":[{\"marker\":{\"colorbar\":{\"outlinewidth\":0,\"ticks\":\"\"}},\"type\":\"scatterpolargl\"}],\"scatterternary\":[{\"marker\":{\"colorbar\":{\"outlinewidth\":0,\"ticks\":\"\"}},\"type\":\"scatterternary\"}],\"surface\":[{\"colorbar\":{\"outlinewidth\":0,\"ticks\":\"\"},\"colorscale\":[[0.0,\"#0d0887\"],[0.1111111111111111,\"#46039f\"],[0.2222222222222222,\"#7201a8\"],[0.3333333333333333,\"#9c179e\"],[0.4444444444444444,\"#bd3786\"],[0.5555555555555556,\"#d8576b\"],[0.6666666666666666,\"#ed7953\"],[0.7777777777777778,\"#fb9f3a\"],[0.8888888888888888,\"#fdca26\"],[1.0,\"#f0f921\"]],\"type\":\"surface\"}],\"table\":[{\"cells\":{\"fill\":{\"color\":\"#EBF0F8\"},\"line\":{\"color\":\"white\"}},\"header\":{\"fill\":{\"color\":\"#C8D4E3\"},\"line\":{\"color\":\"white\"}},\"type\":\"table\"}]},\"layout\":{\"annotationdefaults\":{\"arrowcolor\":\"#2a3f5f\",\"arrowhead\":0,\"arrowwidth\":1},\"autotypenumbers\":\"strict\",\"coloraxis\":{\"colorbar\":{\"outlinewidth\":0,\"ticks\":\"\"}},\"colorscale\":{\"diverging\":[[0,\"#8e0152\"],[0.1,\"#c51b7d\"],[0.2,\"#de77ae\"],[0.3,\"#f1b6da\"],[0.4,\"#fde0ef\"],[0.5,\"#f7f7f7\"],[0.6,\"#e6f5d0\"],[0.7,\"#b8e186\"],[0.8,\"#7fbc41\"],[0.9,\"#4d9221\"],[1,\"#276419\"]],\"sequential\":[[0.0,\"#0d0887\"],[0.1111111111111111,\"#46039f\"],[0.2222222222222222,\"#7201a8\"],[0.3333333333333333,\"#9c179e\"],[0.4444444444444444,\"#bd3786\"],[0.5555555555555556,\"#d8576b\"],[0.6666666666666666,\"#ed7953\"],[0.7777777777777778,\"#fb9f3a\"],[0.8888888888888888,\"#fdca26\"],[1.0,\"#f0f921\"]],\"sequentialminus\":[[0.0,\"#0d0887\"],[0.1111111111111111,\"#46039f\"],[0.2222222222222222,\"#7201a8\"],[0.3333333333333333,\"#9c179e\"],[0.4444444444444444,\"#bd3786\"],[0.5555555555555556,\"#d8576b\"],[0.6666666666666666,\"#ed7953\"],[0.7777777777777778,\"#fb9f3a\"],[0.8888888888888888,\"#fdca26\"],[1.0,\"#f0f921\"]]},\"colorway\":[\"#636efa\",\"#EF553B\",\"#00cc96\",\"#ab63fa\",\"#FFA15A\",\"#19d3f3\",\"#FF6692\",\"#B6E880\",\"#FF97FF\",\"#FECB52\"],\"font\":{\"color\":\"#2a3f5f\"},\"geo\":{\"bgcolor\":\"white\",\"lakecolor\":\"white\",\"landcolor\":\"#E5ECF6\",\"showlakes\":true,\"showland\":true,\"subunitcolor\":\"white\"},\"hoverlabel\":{\"align\":\"left\"},\"hovermode\":\"closest\",\"mapbox\":{\"style\":\"light\"},\"paper_bgcolor\":\"white\",\"plot_bgcolor\":\"#E5ECF6\",\"polar\":{\"angularaxis\":{\"gridcolor\":\"white\",\"linecolor\":\"white\",\"ticks\":\"\"},\"bgcolor\":\"#E5ECF6\",\"radialaxis\":{\"gridcolor\":\"white\",\"linecolor\":\"white\",\"ticks\":\"\"}},\"scene\":{\"xaxis\":{\"backgroundcolor\":\"#E5ECF6\",\"gridcolor\":\"white\",\"gridwidth\":2,\"linecolor\":\"white\",\"showbackground\":true,\"ticks\":\"\",\"zerolinecolor\":\"white\"},\"yaxis\":{\"backgroundcolor\":\"#E5ECF6\",\"gridcolor\":\"white\",\"gridwidth\":2,\"linecolor\":\"white\",\"showbackground\":true,\"ticks\":\"\",\"zerolinecolor\":\"white\"},\"zaxis\":{\"backgroundcolor\":\"#E5ECF6\",\"gridcolor\":\"white\",\"gridwidth\":2,\"linecolor\":\"white\",\"showbackground\":true,\"ticks\":\"\",\"zerolinecolor\":\"white\"}},\"shapedefaults\":{\"line\":{\"color\":\"#2a3f5f\"}},\"ternary\":{\"aaxis\":{\"gridcolor\":\"white\",\"linecolor\":\"white\",\"ticks\":\"\"},\"baxis\":{\"gridcolor\":\"white\",\"linecolor\":\"white\",\"ticks\":\"\"},\"bgcolor\":\"#E5ECF6\",\"caxis\":{\"gridcolor\":\"white\",\"linecolor\":\"white\",\"ticks\":\"\"}},\"title\":{\"x\":0.05},\"xaxis\":{\"automargin\":true,\"gridcolor\":\"white\",\"linecolor\":\"white\",\"ticks\":\"\",\"title\":{\"standoff\":15},\"zerolinecolor\":\"white\",\"zerolinewidth\":2},\"yaxis\":{\"automargin\":true,\"gridcolor\":\"white\",\"linecolor\":\"white\",\"ticks\":\"\",\"title\":{\"standoff\":15},\"zerolinecolor\":\"white\",\"zerolinewidth\":2}}},\"xaxis\":{\"anchor\":\"y\",\"domain\":[0.0,0.45]},\"yaxis\":{\"anchor\":\"x\",\"domain\":[0.0,1.0]},\"xaxis2\":{\"anchor\":\"y2\",\"domain\":[0.55,1.0]},\"yaxis2\":{\"anchor\":\"x2\",\"domain\":[0.0,1.0]},\"title\":{\"text\":\"Mean and standar deviation in words per line for each character\"},\"height\":1000,\"width\":1500},                        {\"responsive\": true}                    ).then(function(){\n",
              "                            \n",
              "var gd = document.getElementById('8edd7029-a760-400d-af86-2ed1c388c589');\n",
              "var x = new MutationObserver(function (mutations, observer) {{\n",
              "        var display = window.getComputedStyle(gd).display;\n",
              "        if (!display || display === 'none') {{\n",
              "            console.log([gd, 'removed!']);\n",
              "            Plotly.purge(gd);\n",
              "            observer.disconnect();\n",
              "        }}\n",
              "}});\n",
              "\n",
              "// Listen for the removal of the full notebook cells\n",
              "var notebookContainer = gd.closest('#notebook-container');\n",
              "if (notebookContainer) {{\n",
              "    x.observe(notebookContainer, {childList: true});\n",
              "}}\n",
              "\n",
              "// Listen for the clearing of the current output cell\n",
              "var outputEl = gd.closest('.output');\n",
              "if (outputEl) {{\n",
              "    x.observe(outputEl, {childList: true});\n",
              "}}\n",
              "\n",
              "                        })                };                            </script>        </div>\n",
              "</body>\n",
              "</html>"
            ]
          },
          "metadata": {}
        }
      ]
    },
    {
      "cell_type": "code",
      "source": [
        "words_info[words_info.speaker == 'deangelo']"
      ],
      "metadata": {
        "colab": {
          "base_uri": "https://localhost:8080/",
          "height": 81
        },
        "id": "mkrqDqSXbUgA",
        "outputId": "b4a13519-f404-416c-8982-9d77f4328cfc"
      },
      "execution_count": null,
      "outputs": [
        {
          "output_type": "execute_result",
          "data": {
            "text/plain": [
              "     speaker  max  min  count  median       mean       std\n",
              "34  DeAngelo   93    1     79     6.0  10.924051  14.85552"
            ],
            "text/html": [
              "\n",
              "  <div id=\"df-fd09f7d5-2bf3-43ab-bcc2-aec6cd0f80a7\">\n",
              "    <div class=\"colab-df-container\">\n",
              "      <div>\n",
              "<style scoped>\n",
              "    .dataframe tbody tr th:only-of-type {\n",
              "        vertical-align: middle;\n",
              "    }\n",
              "\n",
              "    .dataframe tbody tr th {\n",
              "        vertical-align: top;\n",
              "    }\n",
              "\n",
              "    .dataframe thead th {\n",
              "        text-align: right;\n",
              "    }\n",
              "</style>\n",
              "<table border=\"1\" class=\"dataframe\">\n",
              "  <thead>\n",
              "    <tr style=\"text-align: right;\">\n",
              "      <th></th>\n",
              "      <th>speaker</th>\n",
              "      <th>max</th>\n",
              "      <th>min</th>\n",
              "      <th>count</th>\n",
              "      <th>median</th>\n",
              "      <th>mean</th>\n",
              "      <th>std</th>\n",
              "    </tr>\n",
              "  </thead>\n",
              "  <tbody>\n",
              "    <tr>\n",
              "      <th>34</th>\n",
              "      <td>DeAngelo</td>\n",
              "      <td>93</td>\n",
              "      <td>1</td>\n",
              "      <td>79</td>\n",
              "      <td>6.0</td>\n",
              "      <td>10.924051</td>\n",
              "      <td>14.85552</td>\n",
              "    </tr>\n",
              "  </tbody>\n",
              "</table>\n",
              "</div>\n",
              "      <button class=\"colab-df-convert\" onclick=\"convertToInteractive('df-fd09f7d5-2bf3-43ab-bcc2-aec6cd0f80a7')\"\n",
              "              title=\"Convert this dataframe to an interactive table.\"\n",
              "              style=\"display:none;\">\n",
              "        \n",
              "  <svg xmlns=\"http://www.w3.org/2000/svg\" height=\"24px\"viewBox=\"0 0 24 24\"\n",
              "       width=\"24px\">\n",
              "    <path d=\"M0 0h24v24H0V0z\" fill=\"none\"/>\n",
              "    <path d=\"M18.56 5.44l.94 2.06.94-2.06 2.06-.94-2.06-.94-.94-2.06-.94 2.06-2.06.94zm-11 1L8.5 8.5l.94-2.06 2.06-.94-2.06-.94L8.5 2.5l-.94 2.06-2.06.94zm10 10l.94 2.06.94-2.06 2.06-.94-2.06-.94-.94-2.06-.94 2.06-2.06.94z\"/><path d=\"M17.41 7.96l-1.37-1.37c-.4-.4-.92-.59-1.43-.59-.52 0-1.04.2-1.43.59L10.3 9.45l-7.72 7.72c-.78.78-.78 2.05 0 2.83L4 21.41c.39.39.9.59 1.41.59.51 0 1.02-.2 1.41-.59l7.78-7.78 2.81-2.81c.8-.78.8-2.07 0-2.86zM5.41 20L4 18.59l7.72-7.72 1.47 1.35L5.41 20z\"/>\n",
              "  </svg>\n",
              "      </button>\n",
              "      \n",
              "  <style>\n",
              "    .colab-df-container {\n",
              "      display:flex;\n",
              "      flex-wrap:wrap;\n",
              "      gap: 12px;\n",
              "    }\n",
              "\n",
              "    .colab-df-convert {\n",
              "      background-color: #E8F0FE;\n",
              "      border: none;\n",
              "      border-radius: 50%;\n",
              "      cursor: pointer;\n",
              "      display: none;\n",
              "      fill: #1967D2;\n",
              "      height: 32px;\n",
              "      padding: 0 0 0 0;\n",
              "      width: 32px;\n",
              "    }\n",
              "\n",
              "    .colab-df-convert:hover {\n",
              "      background-color: #E2EBFA;\n",
              "      box-shadow: 0px 1px 2px rgba(60, 64, 67, 0.3), 0px 1px 3px 1px rgba(60, 64, 67, 0.15);\n",
              "      fill: #174EA6;\n",
              "    }\n",
              "\n",
              "    [theme=dark] .colab-df-convert {\n",
              "      background-color: #3B4455;\n",
              "      fill: #D2E3FC;\n",
              "    }\n",
              "\n",
              "    [theme=dark] .colab-df-convert:hover {\n",
              "      background-color: #434B5C;\n",
              "      box-shadow: 0px 1px 3px 1px rgba(0, 0, 0, 0.15);\n",
              "      filter: drop-shadow(0px 1px 2px rgba(0, 0, 0, 0.3));\n",
              "      fill: #FFFFFF;\n",
              "    }\n",
              "  </style>\n",
              "\n",
              "      <script>\n",
              "        const buttonEl =\n",
              "          document.querySelector('#df-fd09f7d5-2bf3-43ab-bcc2-aec6cd0f80a7 button.colab-df-convert');\n",
              "        buttonEl.style.display =\n",
              "          google.colab.kernel.accessAllowed ? 'block' : 'none';\n",
              "\n",
              "        async function convertToInteractive(key) {\n",
              "          const element = document.querySelector('#df-fd09f7d5-2bf3-43ab-bcc2-aec6cd0f80a7');\n",
              "          const dataTable =\n",
              "            await google.colab.kernel.invokeFunction('convertToInteractive',\n",
              "                                                     [key], {});\n",
              "          if (!dataTable) return;\n",
              "\n",
              "          const docLinkHtml = 'Like what you see? Visit the ' +\n",
              "            '<a target=\"_blank\" href=https://colab.research.google.com/notebooks/data_table.ipynb>data table notebook</a>'\n",
              "            + ' to learn more about interactive tables.';\n",
              "          element.innerHTML = '';\n",
              "          dataTable['output_type'] = 'display_data';\n",
              "          await google.colab.output.renderOutput(dataTable, element);\n",
              "          const docLink = document.createElement('div');\n",
              "          docLink.innerHTML = docLinkHtml;\n",
              "          element.appendChild(docLink);\n",
              "        }\n",
              "      </script>\n",
              "    </div>\n",
              "  </div>\n",
              "  "
            ]
          },
          "metadata": {},
          "execution_count": 266
        }
      ]
    },
    {
      "cell_type": "markdown",
      "source": [
        "We can see that DeAngelo has the bigger mean in words per line, but genearly because he has a line with 93 words.\n",
        "\n",
        "This was expected given that he also has the biggest standar deviation and not as many lines as other characters. (has 79)"
      ],
      "metadata": {
        "id": "D-eksPm8kLTF"
      }
    },
    {
      "cell_type": "markdown",
      "source": [
        "## 4 What is the most common word per character"
      ],
      "metadata": {
        "id": "6gV6Be-nJUIo"
      }
    },
    {
      "cell_type": "code",
      "source": [
        "from scipy import stats as s\n",
        "\n",
        "def get_most_commond_words(df, main_characters, stop_words):\n",
        "  # Keep just main characters\n",
        "  df = df[df.speaker.isin(main_characters)]\n",
        "  # Clean punctuation\n",
        "  list_words_line = df.line_text.apply(clean_punctuation)\n",
        "  \n",
        "  # Lower case\n",
        "  list_words_line = list_words_line.apply(\n",
        "      lambda row: row.lower())\n",
        "  # Get amount of words per line\n",
        "  list_words_line =  list_words_line.apply(\n",
        "    lambda row: [word for word in re.findall(r'[\\w']+', row) if word not in (stop_words)]\n",
        "  )\n",
        "  df = df.assign(list_words_line=list_words_line)\n",
        "\n",
        "  # Group by spealer and get stats of the amount of words\n",
        "  df_grouped = df.groupby('speaker') \\\n",
        "    .agg({'list_words_line': 'sum'}) \n",
        "  \n",
        "  #Calculate the mode\n",
        "  common_word = df_grouped.list_words_line.apply(lambda row: s.mode(row)[0][0])\n",
        "  df_grouped = df_grouped.assign(common_word=common_word)\n",
        "  return df_grouped.reset_index()"
      ],
      "metadata": {
        "id": "QE2NalFMJX82"
      },
      "execution_count": null,
      "outputs": []
    },
    {
      "cell_type": "code",
      "source": [
        "common_words = get_most_commond_words(df_speakers_splited, main_characters, stop_words)\n",
        "common_words[['speaker', 'common_word']]"
      ],
      "metadata": {
        "colab": {
          "base_uri": "https://localhost:8080/",
          "height": 1000
        },
        "id": "yeaAeLye4QXf",
        "outputId": "4c380b21-59e4-4e6e-aba7-5ea79f3b2e6a"
      },
      "execution_count": null,
      "outputs": [
        {
          "output_type": "execute_result",
          "data": {
            "text/plain": [
              "          speaker common_word\n",
              "0            Andy        yeah\n",
              "1          Angela      dwight\n",
              "2           Carol     michael\n",
              "3         Charles     michael\n",
              "4           Clark         hey\n",
              "5           Creed       creed\n",
              "6          Darryl        yeah\n",
              "7           David     michael\n",
              "8   David Wallace      dwight\n",
              "9        DeAngelo     michael\n",
              "10       Deangelo        yeah\n",
              "11          Donna     michael\n",
              "12         Dwight         jim\n",
              "13           Erin        andy\n",
              "14           Gabe          uh\n",
              "15          Holly     michael\n",
              "16            Jan     michael\n",
              "17            Jim        yeah\n",
              "18             Jo     michael\n",
              "19          Karen        yeah\n",
              "20           Katy        good\n",
              "21          Kelly        ryan\n",
              "22          Kevin        yeah\n",
              "23       Meredith         hey\n",
              "24        Michael        good\n",
              "25         Nellie      dwight\n",
              "26          Oscar     michael\n",
              "27            Pam        yeah\n",
              "28           Pete        yeah\n",
              "29        Phyllis     michael\n",
              "30         Robert        andy\n",
              "31            Roy         hey\n",
              "32           Ryan        yeah\n",
              "33        Stanley     michael\n",
              "34           Toby          uh"
            ],
            "text/html": [
              "\n",
              "  <div id=\"df-1f30b4b3-6a0e-4c77-a8ef-6b2bae5bb659\">\n",
              "    <div class=\"colab-df-container\">\n",
              "      <div>\n",
              "<style scoped>\n",
              "    .dataframe tbody tr th:only-of-type {\n",
              "        vertical-align: middle;\n",
              "    }\n",
              "\n",
              "    .dataframe tbody tr th {\n",
              "        vertical-align: top;\n",
              "    }\n",
              "\n",
              "    .dataframe thead th {\n",
              "        text-align: right;\n",
              "    }\n",
              "</style>\n",
              "<table border=\"1\" class=\"dataframe\">\n",
              "  <thead>\n",
              "    <tr style=\"text-align: right;\">\n",
              "      <th></th>\n",
              "      <th>speaker</th>\n",
              "      <th>common_word</th>\n",
              "    </tr>\n",
              "  </thead>\n",
              "  <tbody>\n",
              "    <tr>\n",
              "      <th>0</th>\n",
              "      <td>Andy</td>\n",
              "      <td>yeah</td>\n",
              "    </tr>\n",
              "    <tr>\n",
              "      <th>1</th>\n",
              "      <td>Angela</td>\n",
              "      <td>dwight</td>\n",
              "    </tr>\n",
              "    <tr>\n",
              "      <th>2</th>\n",
              "      <td>Carol</td>\n",
              "      <td>michael</td>\n",
              "    </tr>\n",
              "    <tr>\n",
              "      <th>3</th>\n",
              "      <td>Charles</td>\n",
              "      <td>michael</td>\n",
              "    </tr>\n",
              "    <tr>\n",
              "      <th>4</th>\n",
              "      <td>Clark</td>\n",
              "      <td>hey</td>\n",
              "    </tr>\n",
              "    <tr>\n",
              "      <th>5</th>\n",
              "      <td>Creed</td>\n",
              "      <td>creed</td>\n",
              "    </tr>\n",
              "    <tr>\n",
              "      <th>6</th>\n",
              "      <td>Darryl</td>\n",
              "      <td>yeah</td>\n",
              "    </tr>\n",
              "    <tr>\n",
              "      <th>7</th>\n",
              "      <td>David</td>\n",
              "      <td>michael</td>\n",
              "    </tr>\n",
              "    <tr>\n",
              "      <th>8</th>\n",
              "      <td>David Wallace</td>\n",
              "      <td>dwight</td>\n",
              "    </tr>\n",
              "    <tr>\n",
              "      <th>9</th>\n",
              "      <td>DeAngelo</td>\n",
              "      <td>michael</td>\n",
              "    </tr>\n",
              "    <tr>\n",
              "      <th>10</th>\n",
              "      <td>Deangelo</td>\n",
              "      <td>yeah</td>\n",
              "    </tr>\n",
              "    <tr>\n",
              "      <th>11</th>\n",
              "      <td>Donna</td>\n",
              "      <td>michael</td>\n",
              "    </tr>\n",
              "    <tr>\n",
              "      <th>12</th>\n",
              "      <td>Dwight</td>\n",
              "      <td>jim</td>\n",
              "    </tr>\n",
              "    <tr>\n",
              "      <th>13</th>\n",
              "      <td>Erin</td>\n",
              "      <td>andy</td>\n",
              "    </tr>\n",
              "    <tr>\n",
              "      <th>14</th>\n",
              "      <td>Gabe</td>\n",
              "      <td>uh</td>\n",
              "    </tr>\n",
              "    <tr>\n",
              "      <th>15</th>\n",
              "      <td>Holly</td>\n",
              "      <td>michael</td>\n",
              "    </tr>\n",
              "    <tr>\n",
              "      <th>16</th>\n",
              "      <td>Jan</td>\n",
              "      <td>michael</td>\n",
              "    </tr>\n",
              "    <tr>\n",
              "      <th>17</th>\n",
              "      <td>Jim</td>\n",
              "      <td>yeah</td>\n",
              "    </tr>\n",
              "    <tr>\n",
              "      <th>18</th>\n",
              "      <td>Jo</td>\n",
              "      <td>michael</td>\n",
              "    </tr>\n",
              "    <tr>\n",
              "      <th>19</th>\n",
              "      <td>Karen</td>\n",
              "      <td>yeah</td>\n",
              "    </tr>\n",
              "    <tr>\n",
              "      <th>20</th>\n",
              "      <td>Katy</td>\n",
              "      <td>good</td>\n",
              "    </tr>\n",
              "    <tr>\n",
              "      <th>21</th>\n",
              "      <td>Kelly</td>\n",
              "      <td>ryan</td>\n",
              "    </tr>\n",
              "    <tr>\n",
              "      <th>22</th>\n",
              "      <td>Kevin</td>\n",
              "      <td>yeah</td>\n",
              "    </tr>\n",
              "    <tr>\n",
              "      <th>23</th>\n",
              "      <td>Meredith</td>\n",
              "      <td>hey</td>\n",
              "    </tr>\n",
              "    <tr>\n",
              "      <th>24</th>\n",
              "      <td>Michael</td>\n",
              "      <td>good</td>\n",
              "    </tr>\n",
              "    <tr>\n",
              "      <th>25</th>\n",
              "      <td>Nellie</td>\n",
              "      <td>dwight</td>\n",
              "    </tr>\n",
              "    <tr>\n",
              "      <th>26</th>\n",
              "      <td>Oscar</td>\n",
              "      <td>michael</td>\n",
              "    </tr>\n",
              "    <tr>\n",
              "      <th>27</th>\n",
              "      <td>Pam</td>\n",
              "      <td>yeah</td>\n",
              "    </tr>\n",
              "    <tr>\n",
              "      <th>28</th>\n",
              "      <td>Pete</td>\n",
              "      <td>yeah</td>\n",
              "    </tr>\n",
              "    <tr>\n",
              "      <th>29</th>\n",
              "      <td>Phyllis</td>\n",
              "      <td>michael</td>\n",
              "    </tr>\n",
              "    <tr>\n",
              "      <th>30</th>\n",
              "      <td>Robert</td>\n",
              "      <td>andy</td>\n",
              "    </tr>\n",
              "    <tr>\n",
              "      <th>31</th>\n",
              "      <td>Roy</td>\n",
              "      <td>hey</td>\n",
              "    </tr>\n",
              "    <tr>\n",
              "      <th>32</th>\n",
              "      <td>Ryan</td>\n",
              "      <td>yeah</td>\n",
              "    </tr>\n",
              "    <tr>\n",
              "      <th>33</th>\n",
              "      <td>Stanley</td>\n",
              "      <td>michael</td>\n",
              "    </tr>\n",
              "    <tr>\n",
              "      <th>34</th>\n",
              "      <td>Toby</td>\n",
              "      <td>uh</td>\n",
              "    </tr>\n",
              "  </tbody>\n",
              "</table>\n",
              "</div>\n",
              "      <button class=\"colab-df-convert\" onclick=\"convertToInteractive('df-1f30b4b3-6a0e-4c77-a8ef-6b2bae5bb659')\"\n",
              "              title=\"Convert this dataframe to an interactive table.\"\n",
              "              style=\"display:none;\">\n",
              "        \n",
              "  <svg xmlns=\"http://www.w3.org/2000/svg\" height=\"24px\"viewBox=\"0 0 24 24\"\n",
              "       width=\"24px\">\n",
              "    <path d=\"M0 0h24v24H0V0z\" fill=\"none\"/>\n",
              "    <path d=\"M18.56 5.44l.94 2.06.94-2.06 2.06-.94-2.06-.94-.94-2.06-.94 2.06-2.06.94zm-11 1L8.5 8.5l.94-2.06 2.06-.94-2.06-.94L8.5 2.5l-.94 2.06-2.06.94zm10 10l.94 2.06.94-2.06 2.06-.94-2.06-.94-.94-2.06-.94 2.06-2.06.94z\"/><path d=\"M17.41 7.96l-1.37-1.37c-.4-.4-.92-.59-1.43-.59-.52 0-1.04.2-1.43.59L10.3 9.45l-7.72 7.72c-.78.78-.78 2.05 0 2.83L4 21.41c.39.39.9.59 1.41.59.51 0 1.02-.2 1.41-.59l7.78-7.78 2.81-2.81c.8-.78.8-2.07 0-2.86zM5.41 20L4 18.59l7.72-7.72 1.47 1.35L5.41 20z\"/>\n",
              "  </svg>\n",
              "      </button>\n",
              "      \n",
              "  <style>\n",
              "    .colab-df-container {\n",
              "      display:flex;\n",
              "      flex-wrap:wrap;\n",
              "      gap: 12px;\n",
              "    }\n",
              "\n",
              "    .colab-df-convert {\n",
              "      background-color: #E8F0FE;\n",
              "      border: none;\n",
              "      border-radius: 50%;\n",
              "      cursor: pointer;\n",
              "      display: none;\n",
              "      fill: #1967D2;\n",
              "      height: 32px;\n",
              "      padding: 0 0 0 0;\n",
              "      width: 32px;\n",
              "    }\n",
              "\n",
              "    .colab-df-convert:hover {\n",
              "      background-color: #E2EBFA;\n",
              "      box-shadow: 0px 1px 2px rgba(60, 64, 67, 0.3), 0px 1px 3px 1px rgba(60, 64, 67, 0.15);\n",
              "      fill: #174EA6;\n",
              "    }\n",
              "\n",
              "    [theme=dark] .colab-df-convert {\n",
              "      background-color: #3B4455;\n",
              "      fill: #D2E3FC;\n",
              "    }\n",
              "\n",
              "    [theme=dark] .colab-df-convert:hover {\n",
              "      background-color: #434B5C;\n",
              "      box-shadow: 0px 1px 3px 1px rgba(0, 0, 0, 0.15);\n",
              "      filter: drop-shadow(0px 1px 2px rgba(0, 0, 0, 0.3));\n",
              "      fill: #FFFFFF;\n",
              "    }\n",
              "  </style>\n",
              "\n",
              "      <script>\n",
              "        const buttonEl =\n",
              "          document.querySelector('#df-1f30b4b3-6a0e-4c77-a8ef-6b2bae5bb659 button.colab-df-convert');\n",
              "        buttonEl.style.display =\n",
              "          google.colab.kernel.accessAllowed ? 'block' : 'none';\n",
              "\n",
              "        async function convertToInteractive(key) {\n",
              "          const element = document.querySelector('#df-1f30b4b3-6a0e-4c77-a8ef-6b2bae5bb659');\n",
              "          const dataTable =\n",
              "            await google.colab.kernel.invokeFunction('convertToInteractive',\n",
              "                                                     [key], {});\n",
              "          if (!dataTable) return;\n",
              "\n",
              "          const docLinkHtml = 'Like what you see? Visit the ' +\n",
              "            '<a target=\"_blank\" href=https://colab.research.google.com/notebooks/data_table.ipynb>data table notebook</a>'\n",
              "            + ' to learn more about interactive tables.';\n",
              "          element.innerHTML = '';\n",
              "          dataTable['output_type'] = 'display_data';\n",
              "          await google.colab.output.renderOutput(dataTable, element);\n",
              "          const docLink = document.createElement('div');\n",
              "          docLink.innerHTML = docLinkHtml;\n",
              "          element.appendChild(docLink);\n",
              "        }\n",
              "      </script>\n",
              "    </div>\n",
              "  </div>\n",
              "  "
            ]
          },
          "metadata": {},
          "execution_count": 24
        }
      ]
    },
    {
      "cell_type": "markdown",
      "source": [
        "We have the most common word per character. Is intresting that the most common word in the most common word group is \"michael\""
      ],
      "metadata": {
        "id": "T0L0Rv_QMPbe"
      }
    },
    {
      "cell_type": "code",
      "source": [
        "common_words.common_word.value_counts()"
      ],
      "metadata": {
        "colab": {
          "base_uri": "https://localhost:8080/"
        },
        "id": "RExZ6blzMYLo",
        "outputId": "b9024dba-8ef2-4dd3-c9c2-8996653f485a"
      },
      "execution_count": null,
      "outputs": [
        {
          "output_type": "execute_result",
          "data": {
            "text/plain": [
              "michael    11\n",
              "yeah        9\n",
              "dwight      3\n",
              "hey         3\n",
              "andy        2\n",
              "uh          2\n",
              "good        2\n",
              "creed       1\n",
              "jim         1\n",
              "ryan        1\n",
              "Name: common_word, dtype: int64"
            ]
          },
          "metadata": {},
          "execution_count": 374
        }
      ]
    },
    {
      "cell_type": "markdown",
      "source": [
        "## 5 Number of episodes where the character does not have a line, for each character"
      ],
      "metadata": {
        "id": "89Kn7PvMJXL0"
      }
    },
    {
      "cell_type": "code",
      "source": [
        "total_amount_of_episodes = sum(get_dict_episodes_per_season(df).values())"
      ],
      "metadata": {
        "id": "H5yWVyPPng5K"
      },
      "execution_count": null,
      "outputs": []
    },
    {
      "cell_type": "markdown",
      "source": [
        "We can "
      ],
      "metadata": {
        "id": "6e2muDolwzeQ"
      }
    },
    {
      "cell_type": "code",
      "source": [
        "def appearaence_episodes(df):\n",
        "  df = df[df.speaker.isin(main_characters)]\n",
        "  speakers_amount = df \\\n",
        "    .drop(['line_text', 'index'], axis=1) \\\n",
        "    .drop_duplicates(['season','episode','speaker'],keep='first')\n",
        "\n",
        "  speakers_amount = speakers_amount.groupby(['speaker']).episode.count()\n",
        "  speakers_amount = speakers_amount.reset_index(name='episodes_appearance')\n",
        "  speakers_amount = speakers_amount.sort_values(by='episodes_appearance')\n",
        "  return speakers_amount\n",
        "\n",
        "for row in appearaence_episodes(df_speakers_splited).iloc:\n",
        "  not_app = total_amount_of_episodes - row.episodes_appearance\n",
        "  not_app_per = 100*not_app/total_amount_of_episodes\n",
        "  not_app_per = round(not_app_per)\n",
        "  print(f'{row.speaker}:')\n",
        "  print(f'Not appear in {not_app} episodes ({not_app_per}%)')\n",
        "  print()"
      ],
      "metadata": {
        "colab": {
          "base_uri": "https://localhost:8080/"
        },
        "id": "uIoPa55dHDaf",
        "outputId": "b1f55fab-bf1f-44b1-8c54-c66d2e964dc3"
      },
      "execution_count": null,
      "outputs": [
        {
          "output_type": "stream",
          "name": "stdout",
          "text": [
            "katy:\n",
            "Not appear in 183 episodes (98%)\n",
            "\n",
            "donna:\n",
            "Not appear in 183 episodes (98%)\n",
            "\n",
            "deangelo:\n",
            "Not appear in 182 episodes (98%)\n",
            "\n",
            "carol:\n",
            "Not appear in 180 episodes (97%)\n",
            "\n",
            "charles:\n",
            "Not appear in 179 episodes (96%)\n",
            "\n",
            "jo:\n",
            "Not appear in 177 episodes (95%)\n",
            "\n",
            "val:\n",
            "Not appear in 175 episodes (94%)\n",
            "\n",
            "david wallace:\n",
            "Not appear in 170 episodes (91%)\n",
            "\n",
            "holly:\n",
            "Not appear in 169 episodes (91%)\n",
            "\n",
            "clark:\n",
            "Not appear in 166 episodes (89%)\n",
            "\n",
            "robert:\n",
            "Not appear in 165 episodes (89%)\n",
            "\n",
            "pete:\n",
            "Not appear in 164 episodes (88%)\n",
            "\n",
            "karen:\n",
            "Not appear in 160 episodes (86%)\n",
            "\n",
            "david:\n",
            "Not appear in 158 episodes (85%)\n",
            "\n",
            "roy:\n",
            "Not appear in 157 episodes (84%)\n",
            "\n",
            "nellie:\n",
            "Not appear in 153 episodes (82%)\n",
            "\n",
            "jan:\n",
            "Not appear in 145 episodes (78%)\n",
            "\n",
            "gabe:\n",
            "Not appear in 139 episodes (75%)\n",
            "\n",
            "erin:\n",
            "Not appear in 88 episodes (47%)\n",
            "\n",
            "darryl:\n",
            "Not appear in 81 episodes (44%)\n",
            "\n",
            "toby:\n",
            "Not appear in 73 episodes (39%)\n",
            "\n",
            "michael:\n",
            "Not appear in 49 episodes (26%)\n",
            "\n",
            "creed:\n",
            "Not appear in 48 episodes (26%)\n",
            "\n",
            "meredith:\n",
            "Not appear in 46 episodes (25%)\n",
            "\n",
            "ryan:\n",
            "Not appear in 45 episodes (24%)\n",
            "\n",
            "kelly:\n",
            "Not appear in 42 episodes (23%)\n",
            "\n",
            "andy:\n",
            "Not appear in 42 episodes (23%)\n",
            "\n",
            "oscar:\n",
            "Not appear in 22 episodes (12%)\n",
            "\n",
            "phyllis:\n",
            "Not appear in 18 episodes (10%)\n",
            "\n",
            "stanley:\n",
            "Not appear in 16 episodes (9%)\n",
            "\n",
            "angela:\n",
            "Not appear in 12 episodes (6%)\n",
            "\n",
            "kevin:\n",
            "Not appear in 6 episodes (3%)\n",
            "\n",
            "pam:\n",
            "Not appear in 4 episodes (2%)\n",
            "\n",
            "jim:\n",
            "Not appear in 1 episodes (1%)\n",
            "\n",
            "dwight:\n",
            "Not appear in 0 episodes (0%)\n",
            "\n"
          ]
        }
      ]
    },
    {
      "cell_type": "markdown",
      "source": [
        "## 6.1 Number of times \"That's what she said\" joke comes up"
      ],
      "metadata": {
        "id": "4OwCdcshJaW0"
      }
    },
    {
      "cell_type": "code",
      "source": [
        "joke_df = df[df['line_text'].str.contains('that's what she', na=False, case=False)]\n",
        "print(f'Amount of times \"that what she said\" joke: {len(joke_df)}')"
      ],
      "metadata": {
        "colab": {
          "base_uri": "https://localhost:8080/"
        },
        "id": "QEcj_E-0JchQ",
        "outputId": "6e132ee7-4902-4637-9ad9-7263d80a7fac"
      },
      "execution_count": null,
      "outputs": [
        {
          "output_type": "stream",
          "name": "stdout",
          "text": [
            "Amount of times 'that what she said' joke: 40\n"
          ]
        }
      ]
    },
    {
      "cell_type": "markdown",
      "source": [
        "### 6.2 Include five examples of the joke"
      ],
      "metadata": {
        "id": "x8F2CTnTJcmJ"
      }
    },
    {
      "cell_type": "code",
      "source": [
        "for row in joke_df.head().iloc:\n",
        "  print(row.speaker, ':')\n",
        "  print(row.line_text)\n",
        "  print()"
      ],
      "metadata": {
        "colab": {
          "base_uri": "https://localhost:8080/"
        },
        "id": "U9FWqTVTJseC",
        "outputId": "438bb225-8d9a-442b-b93f-fceb6ccbb64d"
      },
      "execution_count": null,
      "outputs": [
        {
          "output_type": "stream",
          "name": "stdout",
          "text": [
            "Michael :\n",
            "That's what she said. Pam?\n",
            "\n",
            "Michael :\n",
            "That's what she sai [clears throat]  Nope, but... Okay. Well, suit yourself.\n",
            "\n",
            "Jim :\n",
            "Does that include 'That's What She Said'?\n",
            "\n",
            "Michael :\n",
            "THAT'S WHAT SHE SAID!\n",
            "\n",
            "Michael :\n",
            "A, that's what she said, and B, I wanted it to be impressive. The biggest day of the year deserves the biggest tree of the year.\n",
            "\n"
          ]
        }
      ]
    },
    {
      "cell_type": "markdown",
      "source": [
        "Characters that said the joke"
      ],
      "metadata": {
        "id": "XP8UKkEXzHEJ"
      }
    },
    {
      "cell_type": "code",
      "source": [
        "joke_df.speaker.value_counts()"
      ],
      "metadata": {
        "colab": {
          "base_uri": "https://localhost:8080/"
        },
        "id": "yut-PyrmzEdb",
        "outputId": "68760e7d-fb68-44cb-c55a-72c098825da0"
      },
      "execution_count": null,
      "outputs": [
        {
          "output_type": "execute_result",
          "data": {
            "text/plain": [
              "Michael                27\n",
              "Dwight                  3\n",
              "Jim                     2\n",
              "Stanley                 1\n",
              "Jan                     1\n",
              "Everyone                1\n",
              "Deposition Reporter     1\n",
              "Pam                     1\n",
              "David                   1\n",
              "Holly                   1\n",
              "Creed                   1\n",
              "Name: speaker, dtype: int64"
            ]
          },
          "metadata": {},
          "execution_count": 46
        }
      ]
    },
    {
      "cell_type": "markdown",
      "source": [
        "## 7 The average percent of lines each character contributed to each episode per season.\n",
        "\n"
      ],
      "metadata": {
        "id": "kLmfP3v3Jcqh"
      }
    },
    {
      "cell_type": "code",
      "source": [
        "scenes_per_episode_season = get_dict_scenes_per_episode(df)"
      ],
      "metadata": {
        "id": "ZIR6Gnox2eKT"
      },
      "execution_count": null,
      "outputs": []
    },
    {
      "cell_type": "code",
      "source": [
        "def percentage_scenes_episode(row):\n",
        "  divider = scenes_per_episode_season[(row.season, row.episode)]\n",
        "  return 100*row.scenes/divider\n",
        "\n",
        "def appearaence_episodes(df):\n",
        "  df = df[df.speaker.isin(main_characters)]\n",
        "  speakers_amount = df \\\n",
        "    .drop(['index'], axis=1) \\\n",
        "\n",
        "  speakers_amount = speakers_amount.groupby(['speaker', 'season','episode']).line_text.count()\n",
        "  speakers_amount = speakers_amount.reset_index(name='scenes')\n",
        "\n",
        "  perc_scenes = speakers_amount.apply(percentage_scenes_episode, axis=1)\n",
        "  speakers_amount = speakers_amount.assign(percentage_in_scene=perc_scenes)\n",
        "\n",
        "  speakers_amount = speakers_amount.groupby(['speaker', 'season','episode']).percentage_in_scene.mean()\n",
        "  speakers_amount = speakers_amount.reset_index(name='precentage_lines_in_scene')\n",
        "  speakers_amount = speakers_amount.groupby(['speaker']).precentage_lines_in_scene.agg('mean')\n",
        "  return speakers_amount\n"
      ],
      "metadata": {
        "id": "zd7cha0MJwFA"
      },
      "execution_count": null,
      "outputs": []
    },
    {
      "cell_type": "markdown",
      "source": [
        "The mean percentage for each character in the hole serie"
      ],
      "metadata": {
        "id": "DDd99xybkevz"
      }
    },
    {
      "cell_type": "code",
      "source": [
        "perce = appearaence_episodes(df_speakers_splited).sort_values(ascending=False)\n",
        "for speaker in perce.index:\n",
        "  print(f'{speaker} participation: { round(perce[speaker]) }%')"
      ],
      "metadata": {
        "colab": {
          "base_uri": "https://localhost:8080/"
        },
        "id": "-s42FIWCbEP2",
        "outputId": "b5e8c9ca-b94e-4ceb-a91c-405a725dde9d"
      },
      "execution_count": null,
      "outputs": [
        {
          "output_type": "stream",
          "name": "stdout",
          "text": [
            "michael participation: 27%\n",
            "deangelo participation: 24%\n",
            "dwight participation: 13%\n",
            "jim participation: 11%\n",
            "charles participation: 11%\n",
            "holly participation: 11%\n",
            "pam participation: 9%\n",
            "andy participation: 9%\n",
            "katy participation: 9%\n",
            "donna participation: 9%\n",
            "jo participation: 8%\n",
            "jan participation: 7%\n",
            "robert participation: 7%\n",
            "nellie participation: 6%\n",
            "erin participation: 5%\n",
            "clark participation: 4%\n",
            "david participation: 4%\n",
            "carol participation: 4%\n",
            "karen participation: 4%\n",
            "darryl participation: 4%\n",
            "gabe participation: 3%\n",
            "pete participation: 3%\n",
            "kevin participation: 3%\n",
            "angela participation: 3%\n",
            "ryan participation: 3%\n",
            "oscar participation: 3%\n",
            "roy participation: 3%\n",
            "toby participation: 3%\n",
            "val participation: 2%\n",
            "kelly participation: 2%\n",
            "david wallace participation: 2%\n",
            "phyllis participation: 2%\n",
            "meredith participation: 1%\n",
            "stanley participation: 1%\n",
            "creed participation: 1%\n"
          ]
        }
      ]
    },
    {
      "cell_type": "markdown",
      "source": [
        "## Q1 Amounts of scenes for each episode along the seasons"
      ],
      "metadata": {
        "id": "k2O8mDbPJzlt"
      }
    },
    {
      "cell_type": "markdown",
      "source": [
        "First we need the amount of episodes per season (to plot the graph with colors)"
      ],
      "metadata": {
        "id": "6qNCv13dc96V"
      }
    },
    {
      "cell_type": "code",
      "source": [
        "dic_ep_per_season = get_dict_episodes_per_season(df)"
      ],
      "metadata": {
        "id": "4Y7XuvCanaNt"
      },
      "execution_count": null,
      "outputs": []
    },
    {
      "cell_type": "code",
      "source": [
        "df_scenes = df[['season', 'episode', 'scene']]\n",
        "df_scenes = df_scenes.drop_duplicates(['season','episode','scene'], keep='first')\n",
        "df_scenes = df_scenes.groupby(['season', 'episode']).scene.count().reset_index(name='scenes')\n",
        "\n",
        "ep_norm = []\n",
        "for row in df_scenes.iloc:\n",
        "  ep_norm.append(row.episode/dic_ep_per_season[row.season])\n",
        "      \n",
        "# df_scenes.season.apply(episode_normalized)\n",
        "df_scenes = df_scenes.assign(episodes_normalized=ep_norm)"
      ],
      "metadata": {
        "id": "0vn1u_lGJzsi"
      },
      "execution_count": null,
      "outputs": []
    },
    {
      "cell_type": "code",
      "source": [
        "df_scenes.head(10)"
      ],
      "metadata": {
        "colab": {
          "base_uri": "https://localhost:8080/",
          "height": 363
        },
        "id": "KICS3MYuhs-6",
        "outputId": "466c1559-52b8-4673-d779-1b2d32933327"
      },
      "execution_count": null,
      "outputs": [
        {
          "output_type": "execute_result",
          "data": {
            "text/plain": [
              "   season  episode  scenes  episodes_normalized\n",
              "0       1        1      39             0.166667\n",
              "1       1        2      35             0.333333\n",
              "2       1        3      39             0.500000\n",
              "3       1        4      49             0.666667\n",
              "4       1        5      40             0.833333\n",
              "5       1        6      36             1.000000\n",
              "6       2        1      62             0.045455\n",
              "7       2        2      45             0.090909\n",
              "8       2        3      50             0.136364\n",
              "9       2        4      53             0.181818"
            ],
            "text/html": [
              "\n",
              "  <div id=\"df-470a4960-caed-4e75-9ca5-39e96f75bb10\">\n",
              "    <div class=\"colab-df-container\">\n",
              "      <div>\n",
              "<style scoped>\n",
              "    .dataframe tbody tr th:only-of-type {\n",
              "        vertical-align: middle;\n",
              "    }\n",
              "\n",
              "    .dataframe tbody tr th {\n",
              "        vertical-align: top;\n",
              "    }\n",
              "\n",
              "    .dataframe thead th {\n",
              "        text-align: right;\n",
              "    }\n",
              "</style>\n",
              "<table border=\"1\" class=\"dataframe\">\n",
              "  <thead>\n",
              "    <tr style=\"text-align: right;\">\n",
              "      <th></th>\n",
              "      <th>season</th>\n",
              "      <th>episode</th>\n",
              "      <th>scenes</th>\n",
              "      <th>episodes_normalized</th>\n",
              "    </tr>\n",
              "  </thead>\n",
              "  <tbody>\n",
              "    <tr>\n",
              "      <th>0</th>\n",
              "      <td>1</td>\n",
              "      <td>1</td>\n",
              "      <td>39</td>\n",
              "      <td>0.166667</td>\n",
              "    </tr>\n",
              "    <tr>\n",
              "      <th>1</th>\n",
              "      <td>1</td>\n",
              "      <td>2</td>\n",
              "      <td>35</td>\n",
              "      <td>0.333333</td>\n",
              "    </tr>\n",
              "    <tr>\n",
              "      <th>2</th>\n",
              "      <td>1</td>\n",
              "      <td>3</td>\n",
              "      <td>39</td>\n",
              "      <td>0.500000</td>\n",
              "    </tr>\n",
              "    <tr>\n",
              "      <th>3</th>\n",
              "      <td>1</td>\n",
              "      <td>4</td>\n",
              "      <td>49</td>\n",
              "      <td>0.666667</td>\n",
              "    </tr>\n",
              "    <tr>\n",
              "      <th>4</th>\n",
              "      <td>1</td>\n",
              "      <td>5</td>\n",
              "      <td>40</td>\n",
              "      <td>0.833333</td>\n",
              "    </tr>\n",
              "    <tr>\n",
              "      <th>5</th>\n",
              "      <td>1</td>\n",
              "      <td>6</td>\n",
              "      <td>36</td>\n",
              "      <td>1.000000</td>\n",
              "    </tr>\n",
              "    <tr>\n",
              "      <th>6</th>\n",
              "      <td>2</td>\n",
              "      <td>1</td>\n",
              "      <td>62</td>\n",
              "      <td>0.045455</td>\n",
              "    </tr>\n",
              "    <tr>\n",
              "      <th>7</th>\n",
              "      <td>2</td>\n",
              "      <td>2</td>\n",
              "      <td>45</td>\n",
              "      <td>0.090909</td>\n",
              "    </tr>\n",
              "    <tr>\n",
              "      <th>8</th>\n",
              "      <td>2</td>\n",
              "      <td>3</td>\n",
              "      <td>50</td>\n",
              "      <td>0.136364</td>\n",
              "    </tr>\n",
              "    <tr>\n",
              "      <th>9</th>\n",
              "      <td>2</td>\n",
              "      <td>4</td>\n",
              "      <td>53</td>\n",
              "      <td>0.181818</td>\n",
              "    </tr>\n",
              "  </tbody>\n",
              "</table>\n",
              "</div>\n",
              "      <button class=\"colab-df-convert\" onclick=\"convertToInteractive('df-470a4960-caed-4e75-9ca5-39e96f75bb10')\"\n",
              "              title=\"Convert this dataframe to an interactive table.\"\n",
              "              style=\"display:none;\">\n",
              "        \n",
              "  <svg xmlns=\"http://www.w3.org/2000/svg\" height=\"24px\"viewBox=\"0 0 24 24\"\n",
              "       width=\"24px\">\n",
              "    <path d=\"M0 0h24v24H0V0z\" fill=\"none\"/>\n",
              "    <path d=\"M18.56 5.44l.94 2.06.94-2.06 2.06-.94-2.06-.94-.94-2.06-.94 2.06-2.06.94zm-11 1L8.5 8.5l.94-2.06 2.06-.94-2.06-.94L8.5 2.5l-.94 2.06-2.06.94zm10 10l.94 2.06.94-2.06 2.06-.94-2.06-.94-.94-2.06-.94 2.06-2.06.94z\"/><path d=\"M17.41 7.96l-1.37-1.37c-.4-.4-.92-.59-1.43-.59-.52 0-1.04.2-1.43.59L10.3 9.45l-7.72 7.72c-.78.78-.78 2.05 0 2.83L4 21.41c.39.39.9.59 1.41.59.51 0 1.02-.2 1.41-.59l7.78-7.78 2.81-2.81c.8-.78.8-2.07 0-2.86zM5.41 20L4 18.59l7.72-7.72 1.47 1.35L5.41 20z\"/>\n",
              "  </svg>\n",
              "      </button>\n",
              "      \n",
              "  <style>\n",
              "    .colab-df-container {\n",
              "      display:flex;\n",
              "      flex-wrap:wrap;\n",
              "      gap: 12px;\n",
              "    }\n",
              "\n",
              "    .colab-df-convert {\n",
              "      background-color: #E8F0FE;\n",
              "      border: none;\n",
              "      border-radius: 50%;\n",
              "      cursor: pointer;\n",
              "      display: none;\n",
              "      fill: #1967D2;\n",
              "      height: 32px;\n",
              "      padding: 0 0 0 0;\n",
              "      width: 32px;\n",
              "    }\n",
              "\n",
              "    .colab-df-convert:hover {\n",
              "      background-color: #E2EBFA;\n",
              "      box-shadow: 0px 1px 2px rgba(60, 64, 67, 0.3), 0px 1px 3px 1px rgba(60, 64, 67, 0.15);\n",
              "      fill: #174EA6;\n",
              "    }\n",
              "\n",
              "    [theme=dark] .colab-df-convert {\n",
              "      background-color: #3B4455;\n",
              "      fill: #D2E3FC;\n",
              "    }\n",
              "\n",
              "    [theme=dark] .colab-df-convert:hover {\n",
              "      background-color: #434B5C;\n",
              "      box-shadow: 0px 1px 3px 1px rgba(0, 0, 0, 0.15);\n",
              "      filter: drop-shadow(0px 1px 2px rgba(0, 0, 0, 0.3));\n",
              "      fill: #FFFFFF;\n",
              "    }\n",
              "  </style>\n",
              "\n",
              "      <script>\n",
              "        const buttonEl =\n",
              "          document.querySelector('#df-470a4960-caed-4e75-9ca5-39e96f75bb10 button.colab-df-convert');\n",
              "        buttonEl.style.display =\n",
              "          google.colab.kernel.accessAllowed ? 'block' : 'none';\n",
              "\n",
              "        async function convertToInteractive(key) {\n",
              "          const element = document.querySelector('#df-470a4960-caed-4e75-9ca5-39e96f75bb10');\n",
              "          const dataTable =\n",
              "            await google.colab.kernel.invokeFunction('convertToInteractive',\n",
              "                                                     [key], {});\n",
              "          if (!dataTable) return;\n",
              "\n",
              "          const docLinkHtml = 'Like what you see? Visit the ' +\n",
              "            '<a target=\"_blank\" href=https://colab.research.google.com/notebooks/data_table.ipynb>data table notebook</a>'\n",
              "            + ' to learn more about interactive tables.';\n",
              "          element.innerHTML = '';\n",
              "          dataTable['output_type'] = 'display_data';\n",
              "          await google.colab.output.renderOutput(dataTable, element);\n",
              "          const docLink = document.createElement('div');\n",
              "          docLink.innerHTML = docLinkHtml;\n",
              "          element.appendChild(docLink);\n",
              "        }\n",
              "      </script>\n",
              "    </div>\n",
              "  </div>\n",
              "  "
            ]
          },
          "metadata": {},
          "execution_count": 168
        }
      ]
    },
    {
      "cell_type": "code",
      "source": [
        "fig = px.scatter(df_scenes, y='scenes', x='season', color='episodes_normalized')\n",
        "fig.update_traces(marker_size=10)\n",
        "fig.show()"
      ],
      "metadata": {
        "colab": {
          "base_uri": "https://localhost:8080/",
          "height": 542
        },
        "id": "6eoBA3-FQ-QP",
        "outputId": "07e98d97-e1e9-4390-a995-f9f8b7804d14"
      },
      "execution_count": null,
      "outputs": [
        {
          "output_type": "display_data",
          "data": {
            "text/html": [
              "<html>\n",
              "<head><meta charset=\"utf-8\" /></head>\n",
              "<body>\n",
              "    <div>            <script src=\"https://cdnjs.cloudflare.com/ajax/libs/mathjax/2.7.5/MathJax.js?config=TeX-AMS-MML_SVG\"></script><script type=\"text/javascript\">if (window.MathJax) {MathJax.Hub.Config({SVG: {font: \"STIX-Web\"}});}</script>                <script type=\"text/javascript\">window.PlotlyConfig = {MathJaxConfig: 'local'};</script>\n",
              "        <script src=\"https://cdn.plot.ly/plotly-2.8.3.min.js\"></script>                <div id=\"e6fa2177-f55a-4be2-b09f-a131d98b416a\" class=\"plotly-graph-div\" style=\"height:525px; width:100%;\"></div>            <script type=\"text/javascript\">                                    window.PLOTLYENV=window.PLOTLYENV || {};                                    if (document.getElementById(\"e6fa2177-f55a-4be2-b09f-a131d98b416a\")) {                    Plotly.newPlot(                        \"e6fa2177-f55a-4be2-b09f-a131d98b416a\",                        [{\"hovertemplate\":\"season=%{x}<br>scenes=%{y}<br>episodes_normalized=%{marker.color}<extra></extra>\",\"legendgroup\":\"\",\"marker\":{\"color\":[0.16666666666666666,0.3333333333333333,0.5,0.6666666666666666,0.8333333333333334,1.0,0.045454545454545456,0.09090909090909091,0.13636363636363635,0.18181818181818182,0.22727272727272727,0.2727272727272727,0.3181818181818182,0.36363636363636365,0.4090909090909091,0.45454545454545453,0.5,0.5454545454545454,0.5909090909090909,0.6363636363636364,0.6818181818181818,0.7272727272727273,0.7727272727272727,0.8181818181818182,0.8636363636363636,0.9090909090909091,0.9545454545454546,1.0,0.043478260869565216,0.08695652173913043,0.13043478260869565,0.17391304347826086,0.21739130434782608,0.2608695652173913,0.30434782608695654,0.34782608695652173,0.391304347826087,0.43478260869565216,0.4782608695652174,0.5217391304347826,0.5652173913043478,0.6086956521739131,0.6521739130434783,0.6956521739130435,0.7391304347826086,0.782608695652174,0.8260869565217391,0.8695652173913043,0.9130434782608695,0.9565217391304348,1.0,0.07142857142857142,0.14285714285714285,0.21428571428571427,0.2857142857142857,0.35714285714285715,0.42857142857142855,0.5,0.5714285714285714,0.6428571428571429,0.7142857142857143,0.7857142857142857,0.8571428571428571,0.9285714285714286,1.0,0.038461538461538464,0.07692307692307693,0.11538461538461539,0.15384615384615385,0.19230769230769232,0.23076923076923078,0.2692307692307692,0.3076923076923077,0.34615384615384615,0.38461538461538464,0.4230769230769231,0.46153846153846156,0.5,0.5384615384615384,0.5769230769230769,0.6153846153846154,0.6538461538461539,0.6923076923076923,0.7307692307692307,0.7692307692307693,0.8076923076923077,0.8461538461538461,0.8846153846153846,0.9230769230769231,0.9615384615384616,1.0,0.041666666666666664,0.08333333333333333,0.125,0.16666666666666666,0.20833333333333334,0.25,0.2916666666666667,0.3333333333333333,0.375,0.4166666666666667,0.4583333333333333,0.5,0.5416666666666666,0.5833333333333334,0.625,0.6666666666666666,0.7083333333333334,0.75,0.7916666666666666,0.8333333333333334,0.875,0.9166666666666666,0.9583333333333334,1.0,0.041666666666666664,0.08333333333333333,0.125,0.16666666666666666,0.20833333333333334,0.25,0.2916666666666667,0.3333333333333333,0.375,0.4166666666666667,0.4583333333333333,0.5,0.5416666666666666,0.5833333333333334,0.625,0.6666666666666666,0.7083333333333334,0.75,0.7916666666666666,0.8333333333333334,0.875,0.9166666666666666,0.9583333333333334,1.0,0.041666666666666664,0.08333333333333333,0.125,0.16666666666666666,0.20833333333333334,0.25,0.2916666666666667,0.3333333333333333,0.375,0.4166666666666667,0.4583333333333333,0.5,0.5416666666666666,0.5833333333333334,0.625,0.6666666666666666,0.7083333333333334,0.75,0.7916666666666666,0.8333333333333334,0.875,0.9166666666666666,0.9583333333333334,1.0,0.043478260869565216,0.08695652173913043,0.13043478260869565,0.17391304347826086,0.21739130434782608,0.2608695652173913,0.30434782608695654,0.34782608695652173,0.391304347826087,0.43478260869565216,0.4782608695652174,0.5217391304347826,0.5652173913043478,0.6086956521739131,0.6521739130434783,0.6956521739130435,0.7391304347826086,0.782608695652174,0.8260869565217391,0.8695652173913043,0.9130434782608695,0.9565217391304348,1.0],\"coloraxis\":\"coloraxis\",\"symbol\":\"circle\",\"size\":10},\"mode\":\"markers\",\"name\":\"\",\"orientation\":\"v\",\"showlegend\":false,\"x\":[1,1,1,1,1,1,2,2,2,2,2,2,2,2,2,2,2,2,2,2,2,2,2,2,2,2,2,2,3,3,3,3,3,3,3,3,3,3,3,3,3,3,3,3,3,3,3,3,3,3,3,4,4,4,4,4,4,4,4,4,4,4,4,4,4,5,5,5,5,5,5,5,5,5,5,5,5,5,5,5,5,5,5,5,5,5,5,5,5,5,5,6,6,6,6,6,6,6,6,6,6,6,6,6,6,6,6,6,6,6,6,6,6,6,6,7,7,7,7,7,7,7,7,7,7,7,7,7,7,7,7,7,7,7,7,7,7,7,7,8,8,8,8,8,8,8,8,8,8,8,8,8,8,8,8,8,8,8,8,8,8,8,8,9,9,9,9,9,9,9,9,9,9,9,9,9,9,9,9,9,9,9,9,9,9,9],\"xaxis\":\"x\",\"y\":[39,35,39,49,40,36,62,45,50,53,43,37,44,41,38,70,43,37,44,60,52,48,45,44,42,39,59,57,61,51,66,55,60,52,51,76,32,88,69,46,44,46,55,57,61,57,59,75,60,77,88,92,80,90,92,46,50,61,46,31,49,51,39,52,103,116,30,49,50,54,51,36,29,30,49,34,27,70,31,34,39,32,35,46,40,39,46,32,35,54,42,31,34,28,78,32,31,39,44,51,50,37,45,21,42,43,70,45,35,52,37,50,42,42,44,37,42,43,36,35,53,48,42,38,35,80,36,47,26,41,26,30,39,35,29,53,39,32,80,60,40,42,55,52,52,36,45,48,55,33,45,42,41,36,41,29,40,41,25,51,38,36,44,56,47,48,39,39,48,39,36,40,52,36,51,47,38,35,52,36,35,49,46,53,70,116],\"yaxis\":\"y\",\"type\":\"scatter\"}],                        {\"template\":{\"data\":{\"bar\":[{\"error_x\":{\"color\":\"#2a3f5f\"},\"error_y\":{\"color\":\"#2a3f5f\"},\"marker\":{\"line\":{\"color\":\"#E5ECF6\",\"width\":0.5},\"pattern\":{\"fillmode\":\"overlay\",\"size\":10,\"solidity\":0.2}},\"type\":\"bar\"}],\"barpolar\":[{\"marker\":{\"line\":{\"color\":\"#E5ECF6\",\"width\":0.5},\"pattern\":{\"fillmode\":\"overlay\",\"size\":10,\"solidity\":0.2}},\"type\":\"barpolar\"}],\"carpet\":[{\"aaxis\":{\"endlinecolor\":\"#2a3f5f\",\"gridcolor\":\"white\",\"linecolor\":\"white\",\"minorgridcolor\":\"white\",\"startlinecolor\":\"#2a3f5f\"},\"baxis\":{\"endlinecolor\":\"#2a3f5f\",\"gridcolor\":\"white\",\"linecolor\":\"white\",\"minorgridcolor\":\"white\",\"startlinecolor\":\"#2a3f5f\"},\"type\":\"carpet\"}],\"choropleth\":[{\"colorbar\":{\"outlinewidth\":0,\"ticks\":\"\"},\"type\":\"choropleth\"}],\"contour\":[{\"colorbar\":{\"outlinewidth\":0,\"ticks\":\"\"},\"colorscale\":[[0.0,\"#0d0887\"],[0.1111111111111111,\"#46039f\"],[0.2222222222222222,\"#7201a8\"],[0.3333333333333333,\"#9c179e\"],[0.4444444444444444,\"#bd3786\"],[0.5555555555555556,\"#d8576b\"],[0.6666666666666666,\"#ed7953\"],[0.7777777777777778,\"#fb9f3a\"],[0.8888888888888888,\"#fdca26\"],[1.0,\"#f0f921\"]],\"type\":\"contour\"}],\"contourcarpet\":[{\"colorbar\":{\"outlinewidth\":0,\"ticks\":\"\"},\"type\":\"contourcarpet\"}],\"heatmap\":[{\"colorbar\":{\"outlinewidth\":0,\"ticks\":\"\"},\"colorscale\":[[0.0,\"#0d0887\"],[0.1111111111111111,\"#46039f\"],[0.2222222222222222,\"#7201a8\"],[0.3333333333333333,\"#9c179e\"],[0.4444444444444444,\"#bd3786\"],[0.5555555555555556,\"#d8576b\"],[0.6666666666666666,\"#ed7953\"],[0.7777777777777778,\"#fb9f3a\"],[0.8888888888888888,\"#fdca26\"],[1.0,\"#f0f921\"]],\"type\":\"heatmap\"}],\"heatmapgl\":[{\"colorbar\":{\"outlinewidth\":0,\"ticks\":\"\"},\"colorscale\":[[0.0,\"#0d0887\"],[0.1111111111111111,\"#46039f\"],[0.2222222222222222,\"#7201a8\"],[0.3333333333333333,\"#9c179e\"],[0.4444444444444444,\"#bd3786\"],[0.5555555555555556,\"#d8576b\"],[0.6666666666666666,\"#ed7953\"],[0.7777777777777778,\"#fb9f3a\"],[0.8888888888888888,\"#fdca26\"],[1.0,\"#f0f921\"]],\"type\":\"heatmapgl\"}],\"histogram\":[{\"marker\":{\"pattern\":{\"fillmode\":\"overlay\",\"size\":10,\"solidity\":0.2}},\"type\":\"histogram\"}],\"histogram2d\":[{\"colorbar\":{\"outlinewidth\":0,\"ticks\":\"\"},\"colorscale\":[[0.0,\"#0d0887\"],[0.1111111111111111,\"#46039f\"],[0.2222222222222222,\"#7201a8\"],[0.3333333333333333,\"#9c179e\"],[0.4444444444444444,\"#bd3786\"],[0.5555555555555556,\"#d8576b\"],[0.6666666666666666,\"#ed7953\"],[0.7777777777777778,\"#fb9f3a\"],[0.8888888888888888,\"#fdca26\"],[1.0,\"#f0f921\"]],\"type\":\"histogram2d\"}],\"histogram2dcontour\":[{\"colorbar\":{\"outlinewidth\":0,\"ticks\":\"\"},\"colorscale\":[[0.0,\"#0d0887\"],[0.1111111111111111,\"#46039f\"],[0.2222222222222222,\"#7201a8\"],[0.3333333333333333,\"#9c179e\"],[0.4444444444444444,\"#bd3786\"],[0.5555555555555556,\"#d8576b\"],[0.6666666666666666,\"#ed7953\"],[0.7777777777777778,\"#fb9f3a\"],[0.8888888888888888,\"#fdca26\"],[1.0,\"#f0f921\"]],\"type\":\"histogram2dcontour\"}],\"mesh3d\":[{\"colorbar\":{\"outlinewidth\":0,\"ticks\":\"\"},\"type\":\"mesh3d\"}],\"parcoords\":[{\"line\":{\"colorbar\":{\"outlinewidth\":0,\"ticks\":\"\"}},\"type\":\"parcoords\"}],\"pie\":[{\"automargin\":true,\"type\":\"pie\"}],\"scatter\":[{\"marker\":{\"colorbar\":{\"outlinewidth\":0,\"ticks\":\"\"}},\"type\":\"scatter\"}],\"scatter3d\":[{\"line\":{\"colorbar\":{\"outlinewidth\":0,\"ticks\":\"\"}},\"marker\":{\"colorbar\":{\"outlinewidth\":0,\"ticks\":\"\"}},\"type\":\"scatter3d\"}],\"scattercarpet\":[{\"marker\":{\"colorbar\":{\"outlinewidth\":0,\"ticks\":\"\"}},\"type\":\"scattercarpet\"}],\"scattergeo\":[{\"marker\":{\"colorbar\":{\"outlinewidth\":0,\"ticks\":\"\"}},\"type\":\"scattergeo\"}],\"scattergl\":[{\"marker\":{\"colorbar\":{\"outlinewidth\":0,\"ticks\":\"\"}},\"type\":\"scattergl\"}],\"scattermapbox\":[{\"marker\":{\"colorbar\":{\"outlinewidth\":0,\"ticks\":\"\"}},\"type\":\"scattermapbox\"}],\"scatterpolar\":[{\"marker\":{\"colorbar\":{\"outlinewidth\":0,\"ticks\":\"\"}},\"type\":\"scatterpolar\"}],\"scatterpolargl\":[{\"marker\":{\"colorbar\":{\"outlinewidth\":0,\"ticks\":\"\"}},\"type\":\"scatterpolargl\"}],\"scatterternary\":[{\"marker\":{\"colorbar\":{\"outlinewidth\":0,\"ticks\":\"\"}},\"type\":\"scatterternary\"}],\"surface\":[{\"colorbar\":{\"outlinewidth\":0,\"ticks\":\"\"},\"colorscale\":[[0.0,\"#0d0887\"],[0.1111111111111111,\"#46039f\"],[0.2222222222222222,\"#7201a8\"],[0.3333333333333333,\"#9c179e\"],[0.4444444444444444,\"#bd3786\"],[0.5555555555555556,\"#d8576b\"],[0.6666666666666666,\"#ed7953\"],[0.7777777777777778,\"#fb9f3a\"],[0.8888888888888888,\"#fdca26\"],[1.0,\"#f0f921\"]],\"type\":\"surface\"}],\"table\":[{\"cells\":{\"fill\":{\"color\":\"#EBF0F8\"},\"line\":{\"color\":\"white\"}},\"header\":{\"fill\":{\"color\":\"#C8D4E3\"},\"line\":{\"color\":\"white\"}},\"type\":\"table\"}]},\"layout\":{\"annotationdefaults\":{\"arrowcolor\":\"#2a3f5f\",\"arrowhead\":0,\"arrowwidth\":1},\"autotypenumbers\":\"strict\",\"coloraxis\":{\"colorbar\":{\"outlinewidth\":0,\"ticks\":\"\"}},\"colorscale\":{\"diverging\":[[0,\"#8e0152\"],[0.1,\"#c51b7d\"],[0.2,\"#de77ae\"],[0.3,\"#f1b6da\"],[0.4,\"#fde0ef\"],[0.5,\"#f7f7f7\"],[0.6,\"#e6f5d0\"],[0.7,\"#b8e186\"],[0.8,\"#7fbc41\"],[0.9,\"#4d9221\"],[1,\"#276419\"]],\"sequential\":[[0.0,\"#0d0887\"],[0.1111111111111111,\"#46039f\"],[0.2222222222222222,\"#7201a8\"],[0.3333333333333333,\"#9c179e\"],[0.4444444444444444,\"#bd3786\"],[0.5555555555555556,\"#d8576b\"],[0.6666666666666666,\"#ed7953\"],[0.7777777777777778,\"#fb9f3a\"],[0.8888888888888888,\"#fdca26\"],[1.0,\"#f0f921\"]],\"sequentialminus\":[[0.0,\"#0d0887\"],[0.1111111111111111,\"#46039f\"],[0.2222222222222222,\"#7201a8\"],[0.3333333333333333,\"#9c179e\"],[0.4444444444444444,\"#bd3786\"],[0.5555555555555556,\"#d8576b\"],[0.6666666666666666,\"#ed7953\"],[0.7777777777777778,\"#fb9f3a\"],[0.8888888888888888,\"#fdca26\"],[1.0,\"#f0f921\"]]},\"colorway\":[\"#636efa\",\"#EF553B\",\"#00cc96\",\"#ab63fa\",\"#FFA15A\",\"#19d3f3\",\"#FF6692\",\"#B6E880\",\"#FF97FF\",\"#FECB52\"],\"font\":{\"color\":\"#2a3f5f\"},\"geo\":{\"bgcolor\":\"white\",\"lakecolor\":\"white\",\"landcolor\":\"#E5ECF6\",\"showlakes\":true,\"showland\":true,\"subunitcolor\":\"white\"},\"hoverlabel\":{\"align\":\"left\"},\"hovermode\":\"closest\",\"mapbox\":{\"style\":\"light\"},\"paper_bgcolor\":\"white\",\"plot_bgcolor\":\"#E5ECF6\",\"polar\":{\"angularaxis\":{\"gridcolor\":\"white\",\"linecolor\":\"white\",\"ticks\":\"\"},\"bgcolor\":\"#E5ECF6\",\"radialaxis\":{\"gridcolor\":\"white\",\"linecolor\":\"white\",\"ticks\":\"\"}},\"scene\":{\"xaxis\":{\"backgroundcolor\":\"#E5ECF6\",\"gridcolor\":\"white\",\"gridwidth\":2,\"linecolor\":\"white\",\"showbackground\":true,\"ticks\":\"\",\"zerolinecolor\":\"white\"},\"yaxis\":{\"backgroundcolor\":\"#E5ECF6\",\"gridcolor\":\"white\",\"gridwidth\":2,\"linecolor\":\"white\",\"showbackground\":true,\"ticks\":\"\",\"zerolinecolor\":\"white\"},\"zaxis\":{\"backgroundcolor\":\"#E5ECF6\",\"gridcolor\":\"white\",\"gridwidth\":2,\"linecolor\":\"white\",\"showbackground\":true,\"ticks\":\"\",\"zerolinecolor\":\"white\"}},\"shapedefaults\":{\"line\":{\"color\":\"#2a3f5f\"}},\"ternary\":{\"aaxis\":{\"gridcolor\":\"white\",\"linecolor\":\"white\",\"ticks\":\"\"},\"baxis\":{\"gridcolor\":\"white\",\"linecolor\":\"white\",\"ticks\":\"\"},\"bgcolor\":\"#E5ECF6\",\"caxis\":{\"gridcolor\":\"white\",\"linecolor\":\"white\",\"ticks\":\"\"}},\"title\":{\"x\":0.05},\"xaxis\":{\"automargin\":true,\"gridcolor\":\"white\",\"linecolor\":\"white\",\"ticks\":\"\",\"title\":{\"standoff\":15},\"zerolinecolor\":\"white\",\"zerolinewidth\":2},\"yaxis\":{\"automargin\":true,\"gridcolor\":\"white\",\"linecolor\":\"white\",\"ticks\":\"\",\"title\":{\"standoff\":15},\"zerolinecolor\":\"white\",\"zerolinewidth\":2}}},\"xaxis\":{\"anchor\":\"y\",\"domain\":[0.0,1.0],\"title\":{\"text\":\"season\"}},\"yaxis\":{\"anchor\":\"x\",\"domain\":[0.0,1.0],\"title\":{\"text\":\"scenes\"}},\"coloraxis\":{\"colorbar\":{\"title\":{\"text\":\"episodes_normalized\"}},\"colorscale\":[[0.0,\"#0d0887\"],[0.1111111111111111,\"#46039f\"],[0.2222222222222222,\"#7201a8\"],[0.3333333333333333,\"#9c179e\"],[0.4444444444444444,\"#bd3786\"],[0.5555555555555556,\"#d8576b\"],[0.6666666666666666,\"#ed7953\"],[0.7777777777777778,\"#fb9f3a\"],[0.8888888888888888,\"#fdca26\"],[1.0,\"#f0f921\"]]},\"legend\":{\"tracegroupgap\":0},\"margin\":{\"t\":60}},                        {\"responsive\": true}                    ).then(function(){\n",
              "                            \n",
              "var gd = document.getElementById('e6fa2177-f55a-4be2-b09f-a131d98b416a');\n",
              "var x = new MutationObserver(function (mutations, observer) {{\n",
              "        var display = window.getComputedStyle(gd).display;\n",
              "        if (!display || display === 'none') {{\n",
              "            console.log([gd, 'removed!']);\n",
              "            Plotly.purge(gd);\n",
              "            observer.disconnect();\n",
              "        }}\n",
              "}});\n",
              "\n",
              "// Listen for the removal of the full notebook cells\n",
              "var notebookContainer = gd.closest('#notebook-container');\n",
              "if (notebookContainer) {{\n",
              "    x.observe(notebookContainer, {childList: true});\n",
              "}}\n",
              "\n",
              "// Listen for the clearing of the current output cell\n",
              "var outputEl = gd.closest('.output');\n",
              "if (outputEl) {{\n",
              "    x.observe(outputEl, {childList: true});\n",
              "}}\n",
              "\n",
              "                        })                };                            </script>        </div>\n",
              "</body>\n",
              "</html>"
            ]
          },
          "metadata": {}
        }
      ]
    },
    {
      "cell_type": "markdown",
      "source": [
        "Something that I expected was that the last episode should have more scenes. It happend in seasons 3, 4, 7 and 9. Witch is the half, but nota as much as I was expecting."
      ],
      "metadata": {
        "id": "5GisDr3ji7l0"
      }
    },
    {
      "cell_type": "markdown",
      "source": [
        "## Q2 Sentiment analisis on lines for the 5 most participative characters\n"
      ],
      "metadata": {
        "id": "s_Nya_sSJz0R"
      }
    },
    {
      "cell_type": "code",
      "source": [
        "# Install Libraries\n",
        "!pip install textblob\n",
        "!pip install langdetect\n",
        "!pip install -U tqdm"
      ],
      "metadata": {
        "colab": {
          "base_uri": "https://localhost:8080/"
        },
        "id": "o8jg_szTnaPH",
        "outputId": "f0d53981-6680-4869-8c1c-8164892cb737"
      },
      "execution_count": null,
      "outputs": [
        {
          "output_type": "stream",
          "name": "stdout",
          "text": [
            "Looking in indexes: https://pypi.org/simple, https://us-python.pkg.dev/colab-wheels/public/simple/\n",
            "Requirement already satisfied: textblob in /usr/local/lib/python3.7/dist-packages (0.15.3)\n",
            "Requirement already satisfied: nltk>=3.1 in /usr/local/lib/python3.7/dist-packages (from textblob) (3.7)\n",
            "Requirement already satisfied: tqdm in /usr/local/lib/python3.7/dist-packages (from nltk>=3.1->textblob) (4.64.1)\n",
            "Requirement already satisfied: joblib in /usr/local/lib/python3.7/dist-packages (from nltk>=3.1->textblob) (1.2.0)\n",
            "Requirement already satisfied: click in /usr/local/lib/python3.7/dist-packages (from nltk>=3.1->textblob) (7.1.2)\n",
            "Requirement already satisfied: regex>=2021.8.3 in /usr/local/lib/python3.7/dist-packages (from nltk>=3.1->textblob) (2022.6.2)\n",
            "Looking in indexes: https://pypi.org/simple, https://us-python.pkg.dev/colab-wheels/public/simple/\n",
            "Requirement already satisfied: langdetect in /usr/local/lib/python3.7/dist-packages (1.0.9)\n",
            "Requirement already satisfied: six in /usr/local/lib/python3.7/dist-packages (from langdetect) (1.15.0)\n",
            "Looking in indexes: https://pypi.org/simple, https://us-python.pkg.dev/colab-wheels/public/simple/\n",
            "Requirement already satisfied: tqdm in /usr/local/lib/python3.7/dist-packages (4.64.1)\n"
          ]
        }
      ]
    },
    {
      "cell_type": "code",
      "source": [
        "from nltk.sentiment.vader import SentimentIntensityAnalyzer\n",
        "from langdetect import detect\n",
        "from nltk.stem import SnowballStemmer\n",
        "from nltk.sentiment.vader import SentimentIntensityAnalyzer\n",
        "from sklearn.feature_extraction.text import CountVectorizer\n",
        "from textblob import TextBlob\n",
        "import nltk\n",
        "from collections import defaultdict\n",
        "from tqdm import tqdm\n",
        "\n",
        "nltk.download('vader_lexicon')"
      ],
      "metadata": {
        "colab": {
          "base_uri": "https://localhost:8080/"
        },
        "id": "PC5z1IAZnWFF",
        "outputId": "52088905-7cd4-42d6-9021-42c312f5b48b"
      },
      "execution_count": null,
      "outputs": [
        {
          "output_type": "stream",
          "name": "stderr",
          "text": [
            "[nltk_data] Downloading package vader_lexicon to /root/nltk_data...\n",
            "[nltk_data]   Package vader_lexicon is already up-to-date!\n"
          ]
        },
        {
          "output_type": "execute_result",
          "data": {
            "text/plain": [
              "True"
            ]
          },
          "metadata": {},
          "execution_count": 117
        }
      ]
    },
    {
      "cell_type": "code",
      "source": [
        "small_main_char = main_characters[:5]\n",
        "df_sentiment = df[df.speaker.isin(small_main_char)]"
      ],
      "metadata": {
        "id": "z6wqck-trNeZ"
      },
      "execution_count": null,
      "outputs": []
    },
    {
      "cell_type": "code",
      "source": [
        "#Sentiment Analysis\n",
        "\n",
        "neutral_dict = defaultdict(lambda: 0)\n",
        "negative_dict = defaultdict(lambda: 0)\n",
        "positive_dict = defaultdict(lambda: 0)\n",
        "counter = 0\n",
        "for row in df_sentiment.iloc:\n",
        "    #print(tweet.text)\n",
        "    analysis = TextBlob(row.line_text)\n",
        "    score = SentimentIntensityAnalyzer().polarity_scores(row.line_text)\n",
        "    neg = score['neg']\n",
        "    neu = score['neu']\n",
        "    pos = score['pos']\n",
        "    \n",
        "    if neg > pos:\n",
        "        negative_dict[row.speaker] += 1\n",
        "\n",
        "    elif pos > neg:\n",
        "        positive_dict[row.speaker] += 1\n",
        "    \n",
        "    elif pos == neg:\n",
        "        neutral_dict[row.speaker] += 1\n",
        "    counter += 1\n"
      ],
      "metadata": {
        "id": "9_eCMo9xJz7I"
      },
      "execution_count": null,
      "outputs": []
    },
    {
      "cell_type": "code",
      "source": [
        "import plotly.express as px\n",
        "\n",
        "results = []\n",
        "for char in small_main_char:\n",
        "  results.append(\n",
        "    {\n",
        "    \"speaker\": char, \n",
        "    \"sentiment\": \"positive\",\n",
        "    \"amount\": positive_dict[char], \n",
        "    })\n",
        "  results.append(\n",
        "    {\n",
        "    \"speaker\": char, \n",
        "    \"sentiment\": \"negative\",\n",
        "    \"amount\": negative_dict[char], \n",
        "    })\n",
        "  results.append(\n",
        "    {\n",
        "    \"speaker\": char, \n",
        "    \"sentiment\": \"neutral\",\n",
        "    \"amount\": neutral_dict[char], \n",
        "    })\n",
        "\n",
        "  \n",
        "results = pd.DataFrame(results)\n",
        "fig = px.bar(results, x=\"amount\", y=\"speaker\", color=\"sentiment\", title=\"Sentiment analisis per cgaracter\", orientation=\"h\")\n",
        "fig.show()"
      ],
      "metadata": {
        "colab": {
          "base_uri": "https://localhost:8080/",
          "height": 542
        },
        "id": "L_PI8e_sqJp5",
        "outputId": "eddc73d5-6b35-41aa-8b53-8117e1624921"
      },
      "execution_count": null,
      "outputs": [
        {
          "output_type": "display_data",
          "data": {
            "text/html": [
              "<html>\n",
              "<head><meta charset=\"utf-8\" /></head>\n",
              "<body>\n",
              "    <div>            <script src=\"https://cdnjs.cloudflare.com/ajax/libs/mathjax/2.7.5/MathJax.js?config=TeX-AMS-MML_SVG\"></script><script type=\"text/javascript\">if (window.MathJax) {MathJax.Hub.Config({SVG: {font: \"STIX-Web\"}});}</script>                <script type=\"text/javascript\">window.PlotlyConfig = {MathJaxConfig: 'local'};</script>\n",
              "        <script src=\"https://cdn.plot.ly/plotly-2.8.3.min.js\"></script>                <div id=\"f93f8313-1aa9-4839-905b-a162a7506619\" class=\"plotly-graph-div\" style=\"height:525px; width:100%;\"></div>            <script type=\"text/javascript\">                                    window.PLOTLYENV=window.PLOTLYENV || {};                                    if (document.getElementById(\"f93f8313-1aa9-4839-905b-a162a7506619\")) {                    Plotly.newPlot(                        \"f93f8313-1aa9-4839-905b-a162a7506619\",                        [{\"alignmentgroup\":\"True\",\"hovertemplate\":\"sentiment=positive<br>amount=%{x}<br>speaker=%{y}<extra></extra>\",\"legendgroup\":\"positive\",\"marker\":{\"color\":\"#636efa\",\"pattern\":{\"shape\":\"\"}},\"name\":\"positive\",\"offsetgroup\":\"positive\",\"orientation\":\"h\",\"showlegend\":true,\"textposition\":\"auto\",\"x\":[5412,2712,2776,2163,1748],\"xaxis\":\"x\",\"y\":[\"michael\",\"dwight\",\"jim\",\"pam\",\"andy\"],\"yaxis\":\"y\",\"type\":\"bar\"},{\"alignmentgroup\":\"True\",\"hovertemplate\":\"sentiment=negative<br>amount=%{x}<br>speaker=%{y}<extra></extra>\",\"legendgroup\":\"negative\",\"marker\":{\"color\":\"#EF553B\",\"pattern\":{\"shape\":\"\"}},\"name\":\"negative\",\"offsetgroup\":\"negative\",\"orientation\":\"h\",\"showlegend\":true,\"textposition\":\"auto\",\"x\":[2196,1446,1035,828,728],\"xaxis\":\"x\",\"y\":[\"michael\",\"dwight\",\"jim\",\"pam\",\"andy\"],\"yaxis\":\"y\",\"type\":\"bar\"},{\"alignmentgroup\":\"True\",\"hovertemplate\":\"sentiment=neutral<br>amount=%{x}<br>speaker=%{y}<extra></extra>\",\"legendgroup\":\"neutral\",\"marker\":{\"color\":\"#00cc96\",\"pattern\":{\"shape\":\"\"}},\"name\":\"neutral\",\"offsetgroup\":\"neutral\",\"orientation\":\"h\",\"showlegend\":true,\"textposition\":\"auto\",\"x\":[3972,3012,2801,2219,1492],\"xaxis\":\"x\",\"y\":[\"michael\",\"dwight\",\"jim\",\"pam\",\"andy\"],\"yaxis\":\"y\",\"type\":\"bar\"}],                        {\"template\":{\"data\":{\"bar\":[{\"error_x\":{\"color\":\"#2a3f5f\"},\"error_y\":{\"color\":\"#2a3f5f\"},\"marker\":{\"line\":{\"color\":\"#E5ECF6\",\"width\":0.5},\"pattern\":{\"fillmode\":\"overlay\",\"size\":10,\"solidity\":0.2}},\"type\":\"bar\"}],\"barpolar\":[{\"marker\":{\"line\":{\"color\":\"#E5ECF6\",\"width\":0.5},\"pattern\":{\"fillmode\":\"overlay\",\"size\":10,\"solidity\":0.2}},\"type\":\"barpolar\"}],\"carpet\":[{\"aaxis\":{\"endlinecolor\":\"#2a3f5f\",\"gridcolor\":\"white\",\"linecolor\":\"white\",\"minorgridcolor\":\"white\",\"startlinecolor\":\"#2a3f5f\"},\"baxis\":{\"endlinecolor\":\"#2a3f5f\",\"gridcolor\":\"white\",\"linecolor\":\"white\",\"minorgridcolor\":\"white\",\"startlinecolor\":\"#2a3f5f\"},\"type\":\"carpet\"}],\"choropleth\":[{\"colorbar\":{\"outlinewidth\":0,\"ticks\":\"\"},\"type\":\"choropleth\"}],\"contour\":[{\"colorbar\":{\"outlinewidth\":0,\"ticks\":\"\"},\"colorscale\":[[0.0,\"#0d0887\"],[0.1111111111111111,\"#46039f\"],[0.2222222222222222,\"#7201a8\"],[0.3333333333333333,\"#9c179e\"],[0.4444444444444444,\"#bd3786\"],[0.5555555555555556,\"#d8576b\"],[0.6666666666666666,\"#ed7953\"],[0.7777777777777778,\"#fb9f3a\"],[0.8888888888888888,\"#fdca26\"],[1.0,\"#f0f921\"]],\"type\":\"contour\"}],\"contourcarpet\":[{\"colorbar\":{\"outlinewidth\":0,\"ticks\":\"\"},\"type\":\"contourcarpet\"}],\"heatmap\":[{\"colorbar\":{\"outlinewidth\":0,\"ticks\":\"\"},\"colorscale\":[[0.0,\"#0d0887\"],[0.1111111111111111,\"#46039f\"],[0.2222222222222222,\"#7201a8\"],[0.3333333333333333,\"#9c179e\"],[0.4444444444444444,\"#bd3786\"],[0.5555555555555556,\"#d8576b\"],[0.6666666666666666,\"#ed7953\"],[0.7777777777777778,\"#fb9f3a\"],[0.8888888888888888,\"#fdca26\"],[1.0,\"#f0f921\"]],\"type\":\"heatmap\"}],\"heatmapgl\":[{\"colorbar\":{\"outlinewidth\":0,\"ticks\":\"\"},\"colorscale\":[[0.0,\"#0d0887\"],[0.1111111111111111,\"#46039f\"],[0.2222222222222222,\"#7201a8\"],[0.3333333333333333,\"#9c179e\"],[0.4444444444444444,\"#bd3786\"],[0.5555555555555556,\"#d8576b\"],[0.6666666666666666,\"#ed7953\"],[0.7777777777777778,\"#fb9f3a\"],[0.8888888888888888,\"#fdca26\"],[1.0,\"#f0f921\"]],\"type\":\"heatmapgl\"}],\"histogram\":[{\"marker\":{\"pattern\":{\"fillmode\":\"overlay\",\"size\":10,\"solidity\":0.2}},\"type\":\"histogram\"}],\"histogram2d\":[{\"colorbar\":{\"outlinewidth\":0,\"ticks\":\"\"},\"colorscale\":[[0.0,\"#0d0887\"],[0.1111111111111111,\"#46039f\"],[0.2222222222222222,\"#7201a8\"],[0.3333333333333333,\"#9c179e\"],[0.4444444444444444,\"#bd3786\"],[0.5555555555555556,\"#d8576b\"],[0.6666666666666666,\"#ed7953\"],[0.7777777777777778,\"#fb9f3a\"],[0.8888888888888888,\"#fdca26\"],[1.0,\"#f0f921\"]],\"type\":\"histogram2d\"}],\"histogram2dcontour\":[{\"colorbar\":{\"outlinewidth\":0,\"ticks\":\"\"},\"colorscale\":[[0.0,\"#0d0887\"],[0.1111111111111111,\"#46039f\"],[0.2222222222222222,\"#7201a8\"],[0.3333333333333333,\"#9c179e\"],[0.4444444444444444,\"#bd3786\"],[0.5555555555555556,\"#d8576b\"],[0.6666666666666666,\"#ed7953\"],[0.7777777777777778,\"#fb9f3a\"],[0.8888888888888888,\"#fdca26\"],[1.0,\"#f0f921\"]],\"type\":\"histogram2dcontour\"}],\"mesh3d\":[{\"colorbar\":{\"outlinewidth\":0,\"ticks\":\"\"},\"type\":\"mesh3d\"}],\"parcoords\":[{\"line\":{\"colorbar\":{\"outlinewidth\":0,\"ticks\":\"\"}},\"type\":\"parcoords\"}],\"pie\":[{\"automargin\":true,\"type\":\"pie\"}],\"scatter\":[{\"marker\":{\"colorbar\":{\"outlinewidth\":0,\"ticks\":\"\"}},\"type\":\"scatter\"}],\"scatter3d\":[{\"line\":{\"colorbar\":{\"outlinewidth\":0,\"ticks\":\"\"}},\"marker\":{\"colorbar\":{\"outlinewidth\":0,\"ticks\":\"\"}},\"type\":\"scatter3d\"}],\"scattercarpet\":[{\"marker\":{\"colorbar\":{\"outlinewidth\":0,\"ticks\":\"\"}},\"type\":\"scattercarpet\"}],\"scattergeo\":[{\"marker\":{\"colorbar\":{\"outlinewidth\":0,\"ticks\":\"\"}},\"type\":\"scattergeo\"}],\"scattergl\":[{\"marker\":{\"colorbar\":{\"outlinewidth\":0,\"ticks\":\"\"}},\"type\":\"scattergl\"}],\"scattermapbox\":[{\"marker\":{\"colorbar\":{\"outlinewidth\":0,\"ticks\":\"\"}},\"type\":\"scattermapbox\"}],\"scatterpolar\":[{\"marker\":{\"colorbar\":{\"outlinewidth\":0,\"ticks\":\"\"}},\"type\":\"scatterpolar\"}],\"scatterpolargl\":[{\"marker\":{\"colorbar\":{\"outlinewidth\":0,\"ticks\":\"\"}},\"type\":\"scatterpolargl\"}],\"scatterternary\":[{\"marker\":{\"colorbar\":{\"outlinewidth\":0,\"ticks\":\"\"}},\"type\":\"scatterternary\"}],\"surface\":[{\"colorbar\":{\"outlinewidth\":0,\"ticks\":\"\"},\"colorscale\":[[0.0,\"#0d0887\"],[0.1111111111111111,\"#46039f\"],[0.2222222222222222,\"#7201a8\"],[0.3333333333333333,\"#9c179e\"],[0.4444444444444444,\"#bd3786\"],[0.5555555555555556,\"#d8576b\"],[0.6666666666666666,\"#ed7953\"],[0.7777777777777778,\"#fb9f3a\"],[0.8888888888888888,\"#fdca26\"],[1.0,\"#f0f921\"]],\"type\":\"surface\"}],\"table\":[{\"cells\":{\"fill\":{\"color\":\"#EBF0F8\"},\"line\":{\"color\":\"white\"}},\"header\":{\"fill\":{\"color\":\"#C8D4E3\"},\"line\":{\"color\":\"white\"}},\"type\":\"table\"}]},\"layout\":{\"annotationdefaults\":{\"arrowcolor\":\"#2a3f5f\",\"arrowhead\":0,\"arrowwidth\":1},\"autotypenumbers\":\"strict\",\"coloraxis\":{\"colorbar\":{\"outlinewidth\":0,\"ticks\":\"\"}},\"colorscale\":{\"diverging\":[[0,\"#8e0152\"],[0.1,\"#c51b7d\"],[0.2,\"#de77ae\"],[0.3,\"#f1b6da\"],[0.4,\"#fde0ef\"],[0.5,\"#f7f7f7\"],[0.6,\"#e6f5d0\"],[0.7,\"#b8e186\"],[0.8,\"#7fbc41\"],[0.9,\"#4d9221\"],[1,\"#276419\"]],\"sequential\":[[0.0,\"#0d0887\"],[0.1111111111111111,\"#46039f\"],[0.2222222222222222,\"#7201a8\"],[0.3333333333333333,\"#9c179e\"],[0.4444444444444444,\"#bd3786\"],[0.5555555555555556,\"#d8576b\"],[0.6666666666666666,\"#ed7953\"],[0.7777777777777778,\"#fb9f3a\"],[0.8888888888888888,\"#fdca26\"],[1.0,\"#f0f921\"]],\"sequentialminus\":[[0.0,\"#0d0887\"],[0.1111111111111111,\"#46039f\"],[0.2222222222222222,\"#7201a8\"],[0.3333333333333333,\"#9c179e\"],[0.4444444444444444,\"#bd3786\"],[0.5555555555555556,\"#d8576b\"],[0.6666666666666666,\"#ed7953\"],[0.7777777777777778,\"#fb9f3a\"],[0.8888888888888888,\"#fdca26\"],[1.0,\"#f0f921\"]]},\"colorway\":[\"#636efa\",\"#EF553B\",\"#00cc96\",\"#ab63fa\",\"#FFA15A\",\"#19d3f3\",\"#FF6692\",\"#B6E880\",\"#FF97FF\",\"#FECB52\"],\"font\":{\"color\":\"#2a3f5f\"},\"geo\":{\"bgcolor\":\"white\",\"lakecolor\":\"white\",\"landcolor\":\"#E5ECF6\",\"showlakes\":true,\"showland\":true,\"subunitcolor\":\"white\"},\"hoverlabel\":{\"align\":\"left\"},\"hovermode\":\"closest\",\"mapbox\":{\"style\":\"light\"},\"paper_bgcolor\":\"white\",\"plot_bgcolor\":\"#E5ECF6\",\"polar\":{\"angularaxis\":{\"gridcolor\":\"white\",\"linecolor\":\"white\",\"ticks\":\"\"},\"bgcolor\":\"#E5ECF6\",\"radialaxis\":{\"gridcolor\":\"white\",\"linecolor\":\"white\",\"ticks\":\"\"}},\"scene\":{\"xaxis\":{\"backgroundcolor\":\"#E5ECF6\",\"gridcolor\":\"white\",\"gridwidth\":2,\"linecolor\":\"white\",\"showbackground\":true,\"ticks\":\"\",\"zerolinecolor\":\"white\"},\"yaxis\":{\"backgroundcolor\":\"#E5ECF6\",\"gridcolor\":\"white\",\"gridwidth\":2,\"linecolor\":\"white\",\"showbackground\":true,\"ticks\":\"\",\"zerolinecolor\":\"white\"},\"zaxis\":{\"backgroundcolor\":\"#E5ECF6\",\"gridcolor\":\"white\",\"gridwidth\":2,\"linecolor\":\"white\",\"showbackground\":true,\"ticks\":\"\",\"zerolinecolor\":\"white\"}},\"shapedefaults\":{\"line\":{\"color\":\"#2a3f5f\"}},\"ternary\":{\"aaxis\":{\"gridcolor\":\"white\",\"linecolor\":\"white\",\"ticks\":\"\"},\"baxis\":{\"gridcolor\":\"white\",\"linecolor\":\"white\",\"ticks\":\"\"},\"bgcolor\":\"#E5ECF6\",\"caxis\":{\"gridcolor\":\"white\",\"linecolor\":\"white\",\"ticks\":\"\"}},\"title\":{\"x\":0.05},\"xaxis\":{\"automargin\":true,\"gridcolor\":\"white\",\"linecolor\":\"white\",\"ticks\":\"\",\"title\":{\"standoff\":15},\"zerolinecolor\":\"white\",\"zerolinewidth\":2},\"yaxis\":{\"automargin\":true,\"gridcolor\":\"white\",\"linecolor\":\"white\",\"ticks\":\"\",\"title\":{\"standoff\":15},\"zerolinecolor\":\"white\",\"zerolinewidth\":2}}},\"xaxis\":{\"anchor\":\"y\",\"domain\":[0.0,1.0],\"title\":{\"text\":\"amount\"}},\"yaxis\":{\"anchor\":\"x\",\"domain\":[0.0,1.0],\"title\":{\"text\":\"speaker\"}},\"legend\":{\"title\":{\"text\":\"sentiment\"},\"tracegroupgap\":0},\"title\":{\"text\":\"Sentiment analisis per cgaracter\"},\"barmode\":\"relative\"},                        {\"responsive\": true}                    ).then(function(){\n",
              "                            \n",
              "var gd = document.getElementById('f93f8313-1aa9-4839-905b-a162a7506619');\n",
              "var x = new MutationObserver(function (mutations, observer) {{\n",
              "        var display = window.getComputedStyle(gd).display;\n",
              "        if (!display || display === 'none') {{\n",
              "            console.log([gd, 'removed!']);\n",
              "            Plotly.purge(gd);\n",
              "            observer.disconnect();\n",
              "        }}\n",
              "}});\n",
              "\n",
              "// Listen for the removal of the full notebook cells\n",
              "var notebookContainer = gd.closest('#notebook-container');\n",
              "if (notebookContainer) {{\n",
              "    x.observe(notebookContainer, {childList: true});\n",
              "}}\n",
              "\n",
              "// Listen for the clearing of the current output cell\n",
              "var outputEl = gd.closest('.output');\n",
              "if (outputEl) {{\n",
              "    x.observe(outputEl, {childList: true});\n",
              "}}\n",
              "\n",
              "                        })                };                            </script>        </div>\n",
              "</body>\n",
              "</html>"
            ]
          },
          "metadata": {}
        }
      ]
    },
    {
      "cell_type": "code",
      "source": [
        "px.data.medals_long()\n"
      ],
      "metadata": {
        "colab": {
          "base_uri": "https://localhost:8080/",
          "height": 332
        },
        "id": "ynsxoXrauS_k",
        "outputId": "e0f0ef54-4ece-4bae-d911-6817ac96bff4"
      },
      "execution_count": null,
      "outputs": [
        {
          "output_type": "execute_result",
          "data": {
            "text/plain": [
              "        nation   medal  count\n",
              "0  South Korea    gold     24\n",
              "1        China    gold     10\n",
              "2       Canada    gold      9\n",
              "3  South Korea  silver     13\n",
              "4        China  silver     15\n",
              "5       Canada  silver     12\n",
              "6  South Korea  bronze     11\n",
              "7        China  bronze      8\n",
              "8       Canada  bronze     12"
            ],
            "text/html": [
              "\n",
              "  <div id=\"df-70b4bfad-0d2c-4e02-9ffa-a15d642b5205\">\n",
              "    <div class=\"colab-df-container\">\n",
              "      <div>\n",
              "<style scoped>\n",
              "    .dataframe tbody tr th:only-of-type {\n",
              "        vertical-align: middle;\n",
              "    }\n",
              "\n",
              "    .dataframe tbody tr th {\n",
              "        vertical-align: top;\n",
              "    }\n",
              "\n",
              "    .dataframe thead th {\n",
              "        text-align: right;\n",
              "    }\n",
              "</style>\n",
              "<table border=\"1\" class=\"dataframe\">\n",
              "  <thead>\n",
              "    <tr style=\"text-align: right;\">\n",
              "      <th></th>\n",
              "      <th>nation</th>\n",
              "      <th>medal</th>\n",
              "      <th>count</th>\n",
              "    </tr>\n",
              "  </thead>\n",
              "  <tbody>\n",
              "    <tr>\n",
              "      <th>0</th>\n",
              "      <td>South Korea</td>\n",
              "      <td>gold</td>\n",
              "      <td>24</td>\n",
              "    </tr>\n",
              "    <tr>\n",
              "      <th>1</th>\n",
              "      <td>China</td>\n",
              "      <td>gold</td>\n",
              "      <td>10</td>\n",
              "    </tr>\n",
              "    <tr>\n",
              "      <th>2</th>\n",
              "      <td>Canada</td>\n",
              "      <td>gold</td>\n",
              "      <td>9</td>\n",
              "    </tr>\n",
              "    <tr>\n",
              "      <th>3</th>\n",
              "      <td>South Korea</td>\n",
              "      <td>silver</td>\n",
              "      <td>13</td>\n",
              "    </tr>\n",
              "    <tr>\n",
              "      <th>4</th>\n",
              "      <td>China</td>\n",
              "      <td>silver</td>\n",
              "      <td>15</td>\n",
              "    </tr>\n",
              "    <tr>\n",
              "      <th>5</th>\n",
              "      <td>Canada</td>\n",
              "      <td>silver</td>\n",
              "      <td>12</td>\n",
              "    </tr>\n",
              "    <tr>\n",
              "      <th>6</th>\n",
              "      <td>South Korea</td>\n",
              "      <td>bronze</td>\n",
              "      <td>11</td>\n",
              "    </tr>\n",
              "    <tr>\n",
              "      <th>7</th>\n",
              "      <td>China</td>\n",
              "      <td>bronze</td>\n",
              "      <td>8</td>\n",
              "    </tr>\n",
              "    <tr>\n",
              "      <th>8</th>\n",
              "      <td>Canada</td>\n",
              "      <td>bronze</td>\n",
              "      <td>12</td>\n",
              "    </tr>\n",
              "  </tbody>\n",
              "</table>\n",
              "</div>\n",
              "      <button class=\"colab-df-convert\" onclick=\"convertToInteractive('df-70b4bfad-0d2c-4e02-9ffa-a15d642b5205')\"\n",
              "              title=\"Convert this dataframe to an interactive table.\"\n",
              "              style=\"display:none;\">\n",
              "        \n",
              "  <svg xmlns=\"http://www.w3.org/2000/svg\" height=\"24px\"viewBox=\"0 0 24 24\"\n",
              "       width=\"24px\">\n",
              "    <path d=\"M0 0h24v24H0V0z\" fill=\"none\"/>\n",
              "    <path d=\"M18.56 5.44l.94 2.06.94-2.06 2.06-.94-2.06-.94-.94-2.06-.94 2.06-2.06.94zm-11 1L8.5 8.5l.94-2.06 2.06-.94-2.06-.94L8.5 2.5l-.94 2.06-2.06.94zm10 10l.94 2.06.94-2.06 2.06-.94-2.06-.94-.94-2.06-.94 2.06-2.06.94z\"/><path d=\"M17.41 7.96l-1.37-1.37c-.4-.4-.92-.59-1.43-.59-.52 0-1.04.2-1.43.59L10.3 9.45l-7.72 7.72c-.78.78-.78 2.05 0 2.83L4 21.41c.39.39.9.59 1.41.59.51 0 1.02-.2 1.41-.59l7.78-7.78 2.81-2.81c.8-.78.8-2.07 0-2.86zM5.41 20L4 18.59l7.72-7.72 1.47 1.35L5.41 20z\"/>\n",
              "  </svg>\n",
              "      </button>\n",
              "      \n",
              "  <style>\n",
              "    .colab-df-container {\n",
              "      display:flex;\n",
              "      flex-wrap:wrap;\n",
              "      gap: 12px;\n",
              "    }\n",
              "\n",
              "    .colab-df-convert {\n",
              "      background-color: #E8F0FE;\n",
              "      border: none;\n",
              "      border-radius: 50%;\n",
              "      cursor: pointer;\n",
              "      display: none;\n",
              "      fill: #1967D2;\n",
              "      height: 32px;\n",
              "      padding: 0 0 0 0;\n",
              "      width: 32px;\n",
              "    }\n",
              "\n",
              "    .colab-df-convert:hover {\n",
              "      background-color: #E2EBFA;\n",
              "      box-shadow: 0px 1px 2px rgba(60, 64, 67, 0.3), 0px 1px 3px 1px rgba(60, 64, 67, 0.15);\n",
              "      fill: #174EA6;\n",
              "    }\n",
              "\n",
              "    [theme=dark] .colab-df-convert {\n",
              "      background-color: #3B4455;\n",
              "      fill: #D2E3FC;\n",
              "    }\n",
              "\n",
              "    [theme=dark] .colab-df-convert:hover {\n",
              "      background-color: #434B5C;\n",
              "      box-shadow: 0px 1px 3px 1px rgba(0, 0, 0, 0.15);\n",
              "      filter: drop-shadow(0px 1px 2px rgba(0, 0, 0, 0.3));\n",
              "      fill: #FFFFFF;\n",
              "    }\n",
              "  </style>\n",
              "\n",
              "      <script>\n",
              "        const buttonEl =\n",
              "          document.querySelector('#df-70b4bfad-0d2c-4e02-9ffa-a15d642b5205 button.colab-df-convert');\n",
              "        buttonEl.style.display =\n",
              "          google.colab.kernel.accessAllowed ? 'block' : 'none';\n",
              "\n",
              "        async function convertToInteractive(key) {\n",
              "          const element = document.querySelector('#df-70b4bfad-0d2c-4e02-9ffa-a15d642b5205');\n",
              "          const dataTable =\n",
              "            await google.colab.kernel.invokeFunction('convertToInteractive',\n",
              "                                                     [key], {});\n",
              "          if (!dataTable) return;\n",
              "\n",
              "          const docLinkHtml = 'Like what you see? Visit the ' +\n",
              "            '<a target=\"_blank\" href=https://colab.research.google.com/notebooks/data_table.ipynb>data table notebook</a>'\n",
              "            + ' to learn more about interactive tables.';\n",
              "          element.innerHTML = '';\n",
              "          dataTable['output_type'] = 'display_data';\n",
              "          await google.colab.output.renderOutput(dataTable, element);\n",
              "          const docLink = document.createElement('div');\n",
              "          docLink.innerHTML = docLinkHtml;\n",
              "          element.appendChild(docLink);\n",
              "        }\n",
              "      </script>\n",
              "    </div>\n",
              "  </div>\n",
              "  "
            ]
          },
          "metadata": {},
          "execution_count": 121
        }
      ]
    }
  ]
}